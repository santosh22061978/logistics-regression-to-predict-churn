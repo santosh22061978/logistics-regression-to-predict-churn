{
 "cells": [
  {
   "cell_type": "markdown",
   "metadata": {},
   "source": [
    "# TELCO CUSTOMER CHURN"
   ]
  },
  {
   "cell_type": "markdown",
   "metadata": {},
   "source": [
    "Business Objecttive"
   ]
  },
  {
   "cell_type": "markdown",
   "metadata": {},
   "source": [
    "1) Analyze customer data to understand reason for churn and who could be the next potential customer to leave the company.\n",
    "\n",
    "2) What contributes to the higher churn rate of customer and what could be some of the probable solution to address the same."
   ]
  },
  {
   "cell_type": "markdown",
   "metadata": {},
   "source": [
    "Content of the dataset\n",
    "\n",
    "Each row represents a customer, each column contains customer’s attributes described on the column Metadata.\n",
    "\n",
    "The data set includes information about:\n",
    "\n",
    "1) Customers who left within the last month – the column is called Churn.\n",
    "\n",
    "2) Services that each customer has signed up for – phone, multiple lines, internet, online security, online backup, device     protection, tech support, and streaming TV and movies.\n",
    "\n",
    "3) Customer account information – how long they’ve been a customer, contract, payment method, paperless billing, monthly        charges, and total charges.\n",
    "\n",
    "4) Demographic info about customers – gender, age range, and if they have partners and dependents"
   ]
  },
  {
   "cell_type": "markdown",
   "metadata": {},
   "source": [
    "# Import Library"
   ]
  },
  {
   "cell_type": "code",
   "execution_count": 1,
   "metadata": {},
   "outputs": [],
   "source": [
    "#importing the libraries\n",
    "\n",
    "#Data Processing Libraries\n",
    "import numpy as np\n",
    "import pandas as pd\n",
    "\n",
    "#Data Vizualization Libraries\n",
    "import matplotlib.pyplot as plt\n",
    "import seaborn as sns\n",
    "\n",
    "# Pretty display for notebooks\n",
    "%matplotlib inline\n",
    "\n",
    "# Machine Learning Library\n",
    "from sklearn.preprocessing import LabelEncoder # Encode Categorical Variable to Numerical Variable\n",
    "from sklearn.preprocessing import Imputer # Imputer Class to replace missing values\n",
    "from sklearn.metrics import confusion_matrix # Library for model evaluation\n",
    "from sklearn.metrics import accuracy_score # Library for model evaluation\n",
    "from sklearn.model_selection import train_test_split # Library to split datset into test and train\n",
    "from sklearn.linear_model  import LogisticRegression # Logistic Regression Classifier\n",
    "from sklearn.ensemble  import RandomForestClassifier # Random Forest Classifier\n",
    "from sklearn.svm import SVC #Support vector Machine Classifier\n",
    "from sklearn.tree import DecisionTreeClassifier  # Decision Tree classifier\n",
    "from sklearn.metrics import accuracy_score, f1_score, precision_score, recall_score, classification_report, confusion_matrix\n",
    "from sklearn.model_selection import cross_val_score\n",
    "from sklearn.metrics import precision_recall_curve\n",
    "from sklearn.metrics import average_precision_score\n",
    "\n",
    "#Ignoring the warnings\n",
    "import warnings\n",
    "warnings.filterwarnings('ignore')"
   ]
  },
  {
   "cell_type": "markdown",
   "metadata": {},
   "source": [
    "LOAD DATA"
   ]
  },
  {
   "cell_type": "code",
   "execution_count": 2,
   "metadata": {},
   "outputs": [],
   "source": [
    "# Read .csv file from location and load into pandas DataFrame\n",
    "dataset_churn = pd.read_csv('c:/WA_Fn-UseC_-Telco-Customer-Churn.csv')\n",
    "pd.set_option('display.max_columns', None)"
   ]
  },
  {
   "cell_type": "code",
   "execution_count": 3,
   "metadata": {},
   "outputs": [],
   "source": [
    "# Keeping a backup of original datset.Always a good practice\n",
    "datset_churn_copy = dataset_churn.copy()"
   ]
  },
  {
   "cell_type": "markdown",
   "metadata": {},
   "source": [
    "# Overview of data set"
   ]
  },
  {
   "cell_type": "code",
   "execution_count": 4,
   "metadata": {},
   "outputs": [
    {
     "name": "stdout",
     "output_type": "stream",
     "text": [
      "<class 'pandas.core.frame.DataFrame'>\n",
      "RangeIndex: 7043 entries, 0 to 7042\n",
      "Data columns (total 21 columns):\n",
      "customerID          7043 non-null object\n",
      "gender              7043 non-null object\n",
      "SeniorCitizen       7043 non-null int64\n",
      "Partner             7043 non-null object\n",
      "Dependents          7043 non-null object\n",
      "tenure              7043 non-null int64\n",
      "PhoneService        7043 non-null object\n",
      "MultipleLines       7043 non-null object\n",
      "InternetService     7043 non-null object\n",
      "OnlineSecurity      7043 non-null object\n",
      "OnlineBackup        7043 non-null object\n",
      "DeviceProtection    7043 non-null object\n",
      "TechSupport         7043 non-null object\n",
      "StreamingTV         7043 non-null object\n",
      "StreamingMovies     7043 non-null object\n",
      "Contract            7043 non-null object\n",
      "PaperlessBilling    7043 non-null object\n",
      "PaymentMethod       7043 non-null object\n",
      "MonthlyCharges      7043 non-null float64\n",
      "TotalCharges        7043 non-null object\n",
      "Churn               7043 non-null object\n",
      "dtypes: float64(1), int64(2), object(18)\n",
      "memory usage: 1.1+ MB\n"
     ]
    }
   ],
   "source": [
    "# Data set information\n",
    "dataset_churn.info()"
   ]
  },
  {
   "cell_type": "code",
   "execution_count": 5,
   "metadata": {},
   "outputs": [
    {
     "name": "stdout",
     "output_type": "stream",
     "text": [
      "['CustomerID' 'Gender' 'SeniorCitizen' 'Partner' 'Dependents' 'Tenure'\n",
      " 'PhoneService' 'MultipleLines' 'InternetService' 'OnlineSecurity'\n",
      " 'OnlineBackup' 'DeviceProtection' 'TechSupport' 'StreamingTV'\n",
      " 'StreamingMovies' 'Contract' 'PaperlessBilling' 'PaymentMethod'\n",
      " 'MonthlyCharges' 'TotalCharges' 'Churn']\n"
     ]
    }
   ],
   "source": [
    "# Renaming the 3 columns.\n",
    "dataset_churn = dataset_churn.rename(columns={'customerID' : 'CustomerID' , 'gender': 'Gender', 'tenure':'Tenure'})\n",
    "print(dataset_churn.columns.values)"
   ]
  },
  {
   "cell_type": "markdown",
   "metadata": {},
   "source": [
    "Target Variable or The variable we want to predict is 'Churn'\n",
    "\n",
    "Feature Variable - All Other columns (First 20 columnns)\n",
    "\n",
    "Customers who left within the last month – 'Churn'\n",
    "\n",
    "Customer Services – 'PhoneService', 'MultipleLines', 'InternetService', 'OnlineSecurity', 'OnlineBackup' 'DeviceProtection', 'TechSupport', 'StreamingTV', 'StreamingMovies'\n",
    "\n",
    "Customer Account information – 'Tenure', 'Contract', 'PaperlessBilling', 'PaymentMethod', 'MonthlyCharges', 'TotalCharges'\n",
    "\n",
    "Customer Personal Information – 'Gender', 'SeniorCitizen', 'Partner', 'Dependents"
   ]
  },
  {
   "cell_type": "code",
   "execution_count": 6,
   "metadata": {},
   "outputs": [
    {
     "data": {
      "text/html": [
       "<div>\n",
       "<style scoped>\n",
       "    .dataframe tbody tr th:only-of-type {\n",
       "        vertical-align: middle;\n",
       "    }\n",
       "\n",
       "    .dataframe tbody tr th {\n",
       "        vertical-align: top;\n",
       "    }\n",
       "\n",
       "    .dataframe thead th {\n",
       "        text-align: right;\n",
       "    }\n",
       "</style>\n",
       "<table border=\"1\" class=\"dataframe\">\n",
       "  <thead>\n",
       "    <tr style=\"text-align: right;\">\n",
       "      <th></th>\n",
       "      <th>CustomerID</th>\n",
       "      <th>Gender</th>\n",
       "      <th>SeniorCitizen</th>\n",
       "      <th>Partner</th>\n",
       "      <th>Dependents</th>\n",
       "      <th>Tenure</th>\n",
       "      <th>PhoneService</th>\n",
       "      <th>MultipleLines</th>\n",
       "      <th>InternetService</th>\n",
       "      <th>OnlineSecurity</th>\n",
       "      <th>OnlineBackup</th>\n",
       "      <th>DeviceProtection</th>\n",
       "      <th>TechSupport</th>\n",
       "      <th>StreamingTV</th>\n",
       "      <th>StreamingMovies</th>\n",
       "      <th>Contract</th>\n",
       "      <th>PaperlessBilling</th>\n",
       "      <th>PaymentMethod</th>\n",
       "      <th>MonthlyCharges</th>\n",
       "      <th>TotalCharges</th>\n",
       "      <th>Churn</th>\n",
       "    </tr>\n",
       "  </thead>\n",
       "  <tbody>\n",
       "    <tr>\n",
       "      <th>0</th>\n",
       "      <td>7590-VHVEG</td>\n",
       "      <td>Female</td>\n",
       "      <td>0</td>\n",
       "      <td>Yes</td>\n",
       "      <td>No</td>\n",
       "      <td>1</td>\n",
       "      <td>No</td>\n",
       "      <td>No phone service</td>\n",
       "      <td>DSL</td>\n",
       "      <td>No</td>\n",
       "      <td>Yes</td>\n",
       "      <td>No</td>\n",
       "      <td>No</td>\n",
       "      <td>No</td>\n",
       "      <td>No</td>\n",
       "      <td>Month-to-month</td>\n",
       "      <td>Yes</td>\n",
       "      <td>Electronic check</td>\n",
       "      <td>29.85</td>\n",
       "      <td>29.85</td>\n",
       "      <td>No</td>\n",
       "    </tr>\n",
       "    <tr>\n",
       "      <th>1</th>\n",
       "      <td>5575-GNVDE</td>\n",
       "      <td>Male</td>\n",
       "      <td>0</td>\n",
       "      <td>No</td>\n",
       "      <td>No</td>\n",
       "      <td>34</td>\n",
       "      <td>Yes</td>\n",
       "      <td>No</td>\n",
       "      <td>DSL</td>\n",
       "      <td>Yes</td>\n",
       "      <td>No</td>\n",
       "      <td>Yes</td>\n",
       "      <td>No</td>\n",
       "      <td>No</td>\n",
       "      <td>No</td>\n",
       "      <td>One year</td>\n",
       "      <td>No</td>\n",
       "      <td>Mailed check</td>\n",
       "      <td>56.95</td>\n",
       "      <td>1889.5</td>\n",
       "      <td>No</td>\n",
       "    </tr>\n",
       "    <tr>\n",
       "      <th>2</th>\n",
       "      <td>3668-QPYBK</td>\n",
       "      <td>Male</td>\n",
       "      <td>0</td>\n",
       "      <td>No</td>\n",
       "      <td>No</td>\n",
       "      <td>2</td>\n",
       "      <td>Yes</td>\n",
       "      <td>No</td>\n",
       "      <td>DSL</td>\n",
       "      <td>Yes</td>\n",
       "      <td>Yes</td>\n",
       "      <td>No</td>\n",
       "      <td>No</td>\n",
       "      <td>No</td>\n",
       "      <td>No</td>\n",
       "      <td>Month-to-month</td>\n",
       "      <td>Yes</td>\n",
       "      <td>Mailed check</td>\n",
       "      <td>53.85</td>\n",
       "      <td>108.15</td>\n",
       "      <td>Yes</td>\n",
       "    </tr>\n",
       "    <tr>\n",
       "      <th>3</th>\n",
       "      <td>7795-CFOCW</td>\n",
       "      <td>Male</td>\n",
       "      <td>0</td>\n",
       "      <td>No</td>\n",
       "      <td>No</td>\n",
       "      <td>45</td>\n",
       "      <td>No</td>\n",
       "      <td>No phone service</td>\n",
       "      <td>DSL</td>\n",
       "      <td>Yes</td>\n",
       "      <td>No</td>\n",
       "      <td>Yes</td>\n",
       "      <td>Yes</td>\n",
       "      <td>No</td>\n",
       "      <td>No</td>\n",
       "      <td>One year</td>\n",
       "      <td>No</td>\n",
       "      <td>Bank transfer (automatic)</td>\n",
       "      <td>42.30</td>\n",
       "      <td>1840.75</td>\n",
       "      <td>No</td>\n",
       "    </tr>\n",
       "    <tr>\n",
       "      <th>4</th>\n",
       "      <td>9237-HQITU</td>\n",
       "      <td>Female</td>\n",
       "      <td>0</td>\n",
       "      <td>No</td>\n",
       "      <td>No</td>\n",
       "      <td>2</td>\n",
       "      <td>Yes</td>\n",
       "      <td>No</td>\n",
       "      <td>Fiber optic</td>\n",
       "      <td>No</td>\n",
       "      <td>No</td>\n",
       "      <td>No</td>\n",
       "      <td>No</td>\n",
       "      <td>No</td>\n",
       "      <td>No</td>\n",
       "      <td>Month-to-month</td>\n",
       "      <td>Yes</td>\n",
       "      <td>Electronic check</td>\n",
       "      <td>70.70</td>\n",
       "      <td>151.65</td>\n",
       "      <td>Yes</td>\n",
       "    </tr>\n",
       "    <tr>\n",
       "      <th>5</th>\n",
       "      <td>9305-CDSKC</td>\n",
       "      <td>Female</td>\n",
       "      <td>0</td>\n",
       "      <td>No</td>\n",
       "      <td>No</td>\n",
       "      <td>8</td>\n",
       "      <td>Yes</td>\n",
       "      <td>Yes</td>\n",
       "      <td>Fiber optic</td>\n",
       "      <td>No</td>\n",
       "      <td>No</td>\n",
       "      <td>Yes</td>\n",
       "      <td>No</td>\n",
       "      <td>Yes</td>\n",
       "      <td>Yes</td>\n",
       "      <td>Month-to-month</td>\n",
       "      <td>Yes</td>\n",
       "      <td>Electronic check</td>\n",
       "      <td>99.65</td>\n",
       "      <td>820.5</td>\n",
       "      <td>Yes</td>\n",
       "    </tr>\n",
       "    <tr>\n",
       "      <th>6</th>\n",
       "      <td>1452-KIOVK</td>\n",
       "      <td>Male</td>\n",
       "      <td>0</td>\n",
       "      <td>No</td>\n",
       "      <td>Yes</td>\n",
       "      <td>22</td>\n",
       "      <td>Yes</td>\n",
       "      <td>Yes</td>\n",
       "      <td>Fiber optic</td>\n",
       "      <td>No</td>\n",
       "      <td>Yes</td>\n",
       "      <td>No</td>\n",
       "      <td>No</td>\n",
       "      <td>Yes</td>\n",
       "      <td>No</td>\n",
       "      <td>Month-to-month</td>\n",
       "      <td>Yes</td>\n",
       "      <td>Credit card (automatic)</td>\n",
       "      <td>89.10</td>\n",
       "      <td>1949.4</td>\n",
       "      <td>No</td>\n",
       "    </tr>\n",
       "  </tbody>\n",
       "</table>\n",
       "</div>"
      ],
      "text/plain": [
       "   CustomerID  Gender  SeniorCitizen Partner Dependents  Tenure PhoneService  \\\n",
       "0  7590-VHVEG  Female              0     Yes         No       1           No   \n",
       "1  5575-GNVDE    Male              0      No         No      34          Yes   \n",
       "2  3668-QPYBK    Male              0      No         No       2          Yes   \n",
       "3  7795-CFOCW    Male              0      No         No      45           No   \n",
       "4  9237-HQITU  Female              0      No         No       2          Yes   \n",
       "5  9305-CDSKC  Female              0      No         No       8          Yes   \n",
       "6  1452-KIOVK    Male              0      No        Yes      22          Yes   \n",
       "\n",
       "      MultipleLines InternetService OnlineSecurity OnlineBackup  \\\n",
       "0  No phone service             DSL             No          Yes   \n",
       "1                No             DSL            Yes           No   \n",
       "2                No             DSL            Yes          Yes   \n",
       "3  No phone service             DSL            Yes           No   \n",
       "4                No     Fiber optic             No           No   \n",
       "5               Yes     Fiber optic             No           No   \n",
       "6               Yes     Fiber optic             No          Yes   \n",
       "\n",
       "  DeviceProtection TechSupport StreamingTV StreamingMovies        Contract  \\\n",
       "0               No          No          No              No  Month-to-month   \n",
       "1              Yes          No          No              No        One year   \n",
       "2               No          No          No              No  Month-to-month   \n",
       "3              Yes         Yes          No              No        One year   \n",
       "4               No          No          No              No  Month-to-month   \n",
       "5              Yes          No         Yes             Yes  Month-to-month   \n",
       "6               No          No         Yes              No  Month-to-month   \n",
       "\n",
       "  PaperlessBilling              PaymentMethod  MonthlyCharges TotalCharges  \\\n",
       "0              Yes           Electronic check           29.85        29.85   \n",
       "1               No               Mailed check           56.95       1889.5   \n",
       "2              Yes               Mailed check           53.85       108.15   \n",
       "3               No  Bank transfer (automatic)           42.30      1840.75   \n",
       "4              Yes           Electronic check           70.70       151.65   \n",
       "5              Yes           Electronic check           99.65        820.5   \n",
       "6              Yes    Credit card (automatic)           89.10       1949.4   \n",
       "\n",
       "  Churn  \n",
       "0    No  \n",
       "1    No  \n",
       "2   Yes  \n",
       "3    No  \n",
       "4   Yes  \n",
       "5   Yes  \n",
       "6    No  "
      ]
     },
     "execution_count": 6,
     "metadata": {},
     "output_type": "execute_result"
    }
   ],
   "source": [
    "# get some fill of data\n",
    "dataset_churn.head(7)\n",
    "# this will print first 7 rows from data frame"
   ]
  },
  {
   "cell_type": "markdown",
   "metadata": {},
   "source": [
    "Observation -\n",
    "\n",
    "TotalCharges is Numeric variables.\n",
    "It's defines as object variable. We will convert it to numeric variable"
   ]
  },
  {
   "cell_type": "code",
   "execution_count": 7,
   "metadata": {},
   "outputs": [
    {
     "ename": "ValueError",
     "evalue": "Unable to parse string \" \" at position 488",
     "output_type": "error",
     "traceback": [
      "\u001b[1;31m---------------------------------------------------------------------------\u001b[0m",
      "\u001b[1;31mValueError\u001b[0m                                Traceback (most recent call last)",
      "\u001b[1;32mpandas/_libs/src\\inference.pyx\u001b[0m in \u001b[0;36mpandas._libs.lib.maybe_convert_numeric\u001b[1;34m()\u001b[0m\n",
      "\u001b[1;31mValueError\u001b[0m: Unable to parse string \" \"",
      "\nDuring handling of the above exception, another exception occurred:\n",
      "\u001b[1;31mValueError\u001b[0m                                Traceback (most recent call last)",
      "\u001b[1;32m<ipython-input-7-5f52acd699d1>\u001b[0m in \u001b[0;36m<module>\u001b[1;34m()\u001b[0m\n\u001b[1;32m----> 1\u001b[1;33m \u001b[0mdataset_churn\u001b[0m\u001b[1;33m[\u001b[0m\u001b[1;34m'TotalChargesNum'\u001b[0m\u001b[1;33m]\u001b[0m\u001b[1;33m=\u001b[0m\u001b[0mpd\u001b[0m\u001b[1;33m.\u001b[0m\u001b[0mto_numeric\u001b[0m\u001b[1;33m(\u001b[0m\u001b[0mdataset_churn\u001b[0m\u001b[1;33m[\u001b[0m\u001b[1;34m'TotalCharges'\u001b[0m\u001b[1;33m]\u001b[0m\u001b[1;33m)\u001b[0m\u001b[1;33m\u001b[0m\u001b[0m\n\u001b[0m",
      "\u001b[1;32mC:\\ProgramData\\Anaconda3\\lib\\site-packages\\pandas\\core\\tools\\numeric.py\u001b[0m in \u001b[0;36mto_numeric\u001b[1;34m(arg, errors, downcast)\u001b[0m\n\u001b[0;32m    131\u001b[0m             \u001b[0mcoerce_numeric\u001b[0m \u001b[1;33m=\u001b[0m \u001b[1;32mFalse\u001b[0m \u001b[1;32mif\u001b[0m \u001b[0merrors\u001b[0m \u001b[1;32min\u001b[0m \u001b[1;33m(\u001b[0m\u001b[1;34m'ignore'\u001b[0m\u001b[1;33m,\u001b[0m \u001b[1;34m'raise'\u001b[0m\u001b[1;33m)\u001b[0m \u001b[1;32melse\u001b[0m \u001b[1;32mTrue\u001b[0m\u001b[1;33m\u001b[0m\u001b[0m\n\u001b[0;32m    132\u001b[0m             values = lib.maybe_convert_numeric(values, set(),\n\u001b[1;32m--> 133\u001b[1;33m                                                coerce_numeric=coerce_numeric)\n\u001b[0m\u001b[0;32m    134\u001b[0m \u001b[1;33m\u001b[0m\u001b[0m\n\u001b[0;32m    135\u001b[0m     \u001b[1;32mexcept\u001b[0m \u001b[0mException\u001b[0m\u001b[1;33m:\u001b[0m\u001b[1;33m\u001b[0m\u001b[0m\n",
      "\u001b[1;32mpandas/_libs/src\\inference.pyx\u001b[0m in \u001b[0;36mpandas._libs.lib.maybe_convert_numeric\u001b[1;34m()\u001b[0m\n",
      "\u001b[1;31mValueError\u001b[0m: Unable to parse string \" \" at position 488"
     ]
    }
   ],
   "source": [
    "dataset_churn['TotalChargesNum']=pd.to_numeric(dataset_churn['TotalCharges'])"
   ]
  },
  {
   "cell_type": "markdown",
   "metadata": {},
   "source": [
    "Observation - Column has \" \" . Let's find the columns containing spaces."
   ]
  },
  {
   "cell_type": "code",
   "execution_count": 8,
   "metadata": {},
   "outputs": [
    {
     "name": "stdout",
     "output_type": "stream",
     "text": [
      "Missing Value Rows--> [488, 753, 936, 1082, 1340, 3331, 3826, 4380, 5218, 6670, 6754] \n",
      "Total rows--> 11\n"
     ]
    }
   ],
   "source": [
    "#Identifying the rows containing missing data\n",
    "missing_value_row = list(dataset_churn[dataset_churn['TotalCharges'] == \" \"].index)\n",
    "print('Missing Value Rows-->', missing_value_row , '\\nTotal rows-->', len(missing_value_row))"
   ]
  },
  {
   "cell_type": "code",
   "execution_count": 9,
   "metadata": {},
   "outputs": [],
   "source": [
    "# Replacing the spaces with 0\n",
    "for missing_row in missing_value_row :\n",
    "    dataset_churn['TotalCharges'][missing_row] = 0"
   ]
  },
  {
   "cell_type": "code",
   "execution_count": 10,
   "metadata": {},
   "outputs": [],
   "source": [
    "# Let's try to convert it back to Numeric\n",
    "dataset_churn['TotalCharges']=pd.to_numeric(dataset_churn['TotalCharges'])"
   ]
  },
  {
   "cell_type": "code",
   "execution_count": 11,
   "metadata": {},
   "outputs": [
    {
     "name": "stdout",
     "output_type": "stream",
     "text": [
      "<class 'pandas.core.frame.DataFrame'>\n",
      "RangeIndex: 7043 entries, 0 to 7042\n",
      "Data columns (total 21 columns):\n",
      "CustomerID          7043 non-null object\n",
      "Gender              7043 non-null object\n",
      "SeniorCitizen       7043 non-null int64\n",
      "Partner             7043 non-null object\n",
      "Dependents          7043 non-null object\n",
      "Tenure              7043 non-null int64\n",
      "PhoneService        7043 non-null object\n",
      "MultipleLines       7043 non-null object\n",
      "InternetService     7043 non-null object\n",
      "OnlineSecurity      7043 non-null object\n",
      "OnlineBackup        7043 non-null object\n",
      "DeviceProtection    7043 non-null object\n",
      "TechSupport         7043 non-null object\n",
      "StreamingTV         7043 non-null object\n",
      "StreamingMovies     7043 non-null object\n",
      "Contract            7043 non-null object\n",
      "PaperlessBilling    7043 non-null object\n",
      "PaymentMethod       7043 non-null object\n",
      "MonthlyCharges      7043 non-null float64\n",
      "TotalCharges        7043 non-null float64\n",
      "Churn               7043 non-null object\n",
      "dtypes: float64(2), int64(2), object(17)\n",
      "memory usage: 1.1+ MB\n"
     ]
    }
   ],
   "source": [
    "dataset_churn.info()"
   ]
  },
  {
   "cell_type": "markdown",
   "metadata": {},
   "source": [
    "# Which features are numerical?\n",
    "SeniorCitizen, Tenure, MonthlyCharges, TotalCharges\n",
    "\n",
    "Continous - Tenure, MonthlyCharges, TotalCharges\n",
    "\n",
    "Discrete - SeniorCitizen\n",
    "\n",
    "# Which features are categorical?\n",
    "PhoneService, MultipleLines, InternetService, OnlineSecurity, OnlineBackup DeviceProtection, TechSupport, StreamingTV, StreamingMovies, Contract, PaperlessBilling, PaymentMethod, gender, Partner, Dependents\n",
    "\n",
    "# Which features are Nominal or Ordinal ?\n",
    "Ordinal data (variables with a meaningful order) - No.\n",
    "\n",
    "Nominal data (categories that have no meaningful order) - All Columns.\n",
    "\n",
    "# Which features are mixed data types?\n",
    "None"
   ]
  },
  {
   "cell_type": "markdown",
   "metadata": {},
   "source": [
    "# Understanding the summary statistics , central tendency and dispersion of dataset\n",
    "\n",
    "Summary Statistics of Object/Categorical variable."
   ]
  },
  {
   "cell_type": "code",
   "execution_count": 12,
   "metadata": {},
   "outputs": [
    {
     "data": {
      "text/html": [
       "<div>\n",
       "<style scoped>\n",
       "    .dataframe tbody tr th:only-of-type {\n",
       "        vertical-align: middle;\n",
       "    }\n",
       "\n",
       "    .dataframe tbody tr th {\n",
       "        vertical-align: top;\n",
       "    }\n",
       "\n",
       "    .dataframe thead th {\n",
       "        text-align: right;\n",
       "    }\n",
       "</style>\n",
       "<table border=\"1\" class=\"dataframe\">\n",
       "  <thead>\n",
       "    <tr style=\"text-align: right;\">\n",
       "      <th></th>\n",
       "      <th>CustomerID</th>\n",
       "      <th>Gender</th>\n",
       "      <th>Partner</th>\n",
       "      <th>Dependents</th>\n",
       "      <th>PhoneService</th>\n",
       "      <th>MultipleLines</th>\n",
       "      <th>InternetService</th>\n",
       "      <th>OnlineSecurity</th>\n",
       "      <th>OnlineBackup</th>\n",
       "      <th>DeviceProtection</th>\n",
       "      <th>TechSupport</th>\n",
       "      <th>StreamingTV</th>\n",
       "      <th>StreamingMovies</th>\n",
       "      <th>Contract</th>\n",
       "      <th>PaperlessBilling</th>\n",
       "      <th>PaymentMethod</th>\n",
       "      <th>Churn</th>\n",
       "    </tr>\n",
       "  </thead>\n",
       "  <tbody>\n",
       "    <tr>\n",
       "      <th>count</th>\n",
       "      <td>7043</td>\n",
       "      <td>7043</td>\n",
       "      <td>7043</td>\n",
       "      <td>7043</td>\n",
       "      <td>7043</td>\n",
       "      <td>7043</td>\n",
       "      <td>7043</td>\n",
       "      <td>7043</td>\n",
       "      <td>7043</td>\n",
       "      <td>7043</td>\n",
       "      <td>7043</td>\n",
       "      <td>7043</td>\n",
       "      <td>7043</td>\n",
       "      <td>7043</td>\n",
       "      <td>7043</td>\n",
       "      <td>7043</td>\n",
       "      <td>7043</td>\n",
       "    </tr>\n",
       "    <tr>\n",
       "      <th>unique</th>\n",
       "      <td>7043</td>\n",
       "      <td>2</td>\n",
       "      <td>2</td>\n",
       "      <td>2</td>\n",
       "      <td>2</td>\n",
       "      <td>3</td>\n",
       "      <td>3</td>\n",
       "      <td>3</td>\n",
       "      <td>3</td>\n",
       "      <td>3</td>\n",
       "      <td>3</td>\n",
       "      <td>3</td>\n",
       "      <td>3</td>\n",
       "      <td>3</td>\n",
       "      <td>2</td>\n",
       "      <td>4</td>\n",
       "      <td>2</td>\n",
       "    </tr>\n",
       "    <tr>\n",
       "      <th>top</th>\n",
       "      <td>2263-SFSQZ</td>\n",
       "      <td>Male</td>\n",
       "      <td>No</td>\n",
       "      <td>No</td>\n",
       "      <td>Yes</td>\n",
       "      <td>No</td>\n",
       "      <td>Fiber optic</td>\n",
       "      <td>No</td>\n",
       "      <td>No</td>\n",
       "      <td>No</td>\n",
       "      <td>No</td>\n",
       "      <td>No</td>\n",
       "      <td>No</td>\n",
       "      <td>Month-to-month</td>\n",
       "      <td>Yes</td>\n",
       "      <td>Electronic check</td>\n",
       "      <td>No</td>\n",
       "    </tr>\n",
       "    <tr>\n",
       "      <th>freq</th>\n",
       "      <td>1</td>\n",
       "      <td>3555</td>\n",
       "      <td>3641</td>\n",
       "      <td>4933</td>\n",
       "      <td>6361</td>\n",
       "      <td>3390</td>\n",
       "      <td>3096</td>\n",
       "      <td>3498</td>\n",
       "      <td>3088</td>\n",
       "      <td>3095</td>\n",
       "      <td>3473</td>\n",
       "      <td>2810</td>\n",
       "      <td>2785</td>\n",
       "      <td>3875</td>\n",
       "      <td>4171</td>\n",
       "      <td>2365</td>\n",
       "      <td>5174</td>\n",
       "    </tr>\n",
       "  </tbody>\n",
       "</table>\n",
       "</div>"
      ],
      "text/plain": [
       "        CustomerID Gender Partner Dependents PhoneService MultipleLines  \\\n",
       "count         7043   7043    7043       7043         7043          7043   \n",
       "unique        7043      2       2          2            2             3   \n",
       "top     2263-SFSQZ   Male      No         No          Yes            No   \n",
       "freq             1   3555    3641       4933         6361          3390   \n",
       "\n",
       "       InternetService OnlineSecurity OnlineBackup DeviceProtection  \\\n",
       "count             7043           7043         7043             7043   \n",
       "unique               3              3            3                3   \n",
       "top        Fiber optic             No           No               No   \n",
       "freq              3096           3498         3088             3095   \n",
       "\n",
       "       TechSupport StreamingTV StreamingMovies        Contract  \\\n",
       "count         7043        7043            7043            7043   \n",
       "unique           3           3               3               3   \n",
       "top             No          No              No  Month-to-month   \n",
       "freq          3473        2810            2785            3875   \n",
       "\n",
       "       PaperlessBilling     PaymentMethod Churn  \n",
       "count              7043              7043  7043  \n",
       "unique                2                 4     2  \n",
       "top                 Yes  Electronic check    No  \n",
       "freq               4171              2365  5174  "
      ]
     },
     "execution_count": 12,
     "metadata": {},
     "output_type": "execute_result"
    }
   ],
   "source": [
    "dataset_churn.describe(include=['O'])"
   ]
  },
  {
   "cell_type": "markdown",
   "metadata": {},
   "source": [
    "Summary Statistics of numeric variable."
   ]
  },
  {
   "cell_type": "code",
   "execution_count": 13,
   "metadata": {},
   "outputs": [
    {
     "data": {
      "text/html": [
       "<div>\n",
       "<style scoped>\n",
       "    .dataframe tbody tr th:only-of-type {\n",
       "        vertical-align: middle;\n",
       "    }\n",
       "\n",
       "    .dataframe tbody tr th {\n",
       "        vertical-align: top;\n",
       "    }\n",
       "\n",
       "    .dataframe thead th {\n",
       "        text-align: right;\n",
       "    }\n",
       "</style>\n",
       "<table border=\"1\" class=\"dataframe\">\n",
       "  <thead>\n",
       "    <tr style=\"text-align: right;\">\n",
       "      <th></th>\n",
       "      <th>SeniorCitizen</th>\n",
       "      <th>Tenure</th>\n",
       "      <th>MonthlyCharges</th>\n",
       "      <th>TotalCharges</th>\n",
       "    </tr>\n",
       "  </thead>\n",
       "  <tbody>\n",
       "    <tr>\n",
       "      <th>count</th>\n",
       "      <td>7043.000000</td>\n",
       "      <td>7043.000000</td>\n",
       "      <td>7043.000000</td>\n",
       "      <td>7043.000000</td>\n",
       "    </tr>\n",
       "    <tr>\n",
       "      <th>mean</th>\n",
       "      <td>0.162147</td>\n",
       "      <td>32.371149</td>\n",
       "      <td>64.761692</td>\n",
       "      <td>2279.734304</td>\n",
       "    </tr>\n",
       "    <tr>\n",
       "      <th>std</th>\n",
       "      <td>0.368612</td>\n",
       "      <td>24.559481</td>\n",
       "      <td>30.090047</td>\n",
       "      <td>2266.794470</td>\n",
       "    </tr>\n",
       "    <tr>\n",
       "      <th>min</th>\n",
       "      <td>0.000000</td>\n",
       "      <td>0.000000</td>\n",
       "      <td>18.250000</td>\n",
       "      <td>0.000000</td>\n",
       "    </tr>\n",
       "    <tr>\n",
       "      <th>25%</th>\n",
       "      <td>0.000000</td>\n",
       "      <td>9.000000</td>\n",
       "      <td>35.500000</td>\n",
       "      <td>398.550000</td>\n",
       "    </tr>\n",
       "    <tr>\n",
       "      <th>50%</th>\n",
       "      <td>0.000000</td>\n",
       "      <td>29.000000</td>\n",
       "      <td>70.350000</td>\n",
       "      <td>1394.550000</td>\n",
       "    </tr>\n",
       "    <tr>\n",
       "      <th>75%</th>\n",
       "      <td>0.000000</td>\n",
       "      <td>55.000000</td>\n",
       "      <td>89.850000</td>\n",
       "      <td>3786.600000</td>\n",
       "    </tr>\n",
       "    <tr>\n",
       "      <th>max</th>\n",
       "      <td>1.000000</td>\n",
       "      <td>72.000000</td>\n",
       "      <td>118.750000</td>\n",
       "      <td>8684.800000</td>\n",
       "    </tr>\n",
       "  </tbody>\n",
       "</table>\n",
       "</div>"
      ],
      "text/plain": [
       "       SeniorCitizen       Tenure  MonthlyCharges  TotalCharges\n",
       "count    7043.000000  7043.000000     7043.000000   7043.000000\n",
       "mean        0.162147    32.371149       64.761692   2279.734304\n",
       "std         0.368612    24.559481       30.090047   2266.794470\n",
       "min         0.000000     0.000000       18.250000      0.000000\n",
       "25%         0.000000     9.000000       35.500000    398.550000\n",
       "50%         0.000000    29.000000       70.350000   1394.550000\n",
       "75%         0.000000    55.000000       89.850000   3786.600000\n",
       "max         1.000000    72.000000      118.750000   8684.800000"
      ]
     },
     "execution_count": 13,
     "metadata": {},
     "output_type": "execute_result"
    }
   ],
   "source": [
    "dataset_churn.describe()"
   ]
  },
  {
   "cell_type": "markdown",
   "metadata": {},
   "source": [
    "# Observations:\n",
    "1) We have 4 numeric variables\n",
    "\n",
    "2) Tenure can vary from 0 months to 72 months. This is how long customer is with Telco.\n",
    "\n",
    "2) Total Charges = Monthly Charges * Tenure\n",
    "\n",
    "3) Looking at the count column, all columns have count as 7043 ."
   ]
  },
  {
   "cell_type": "code",
   "execution_count": 14,
   "metadata": {},
   "outputs": [
    {
     "data": {
      "text/plain": [
       "Index(['SeniorCitizen', 'Tenure', 'MonthlyCharges', 'TotalCharges'], dtype='object')"
      ]
     },
     "execution_count": 14,
     "metadata": {},
     "output_type": "execute_result"
    }
   ],
   "source": [
    "#del datset_churn\n",
    "dataset_churn._get_numeric_data().columns"
   ]
  },
  {
   "cell_type": "code",
   "execution_count": 15,
   "metadata": {},
   "outputs": [
    {
     "name": "stdout",
     "output_type": "stream",
     "text": [
      "Index(['SeniorCitizen', 'Tenure', 'MonthlyCharges', 'TotalCharges'], dtype='object')\n",
      "categorical column\n",
      "['MultipleLines', 'DeviceProtection', 'Gender', 'TechSupport', 'OnlineBackup', 'OnlineSecurity', 'Dependents', 'Contract', 'StreamingTV', 'Partner', 'CustomerID', 'StreamingMovies', 'PaymentMethod', 'InternetService', 'PaperlessBilling', 'Churn', 'PhoneService']\n"
     ]
    }
   ],
   "source": [
    "# get numerical columns first\n",
    "num_cols =dataset_churn._get_numeric_data().columns\n",
    "print(num_cols)\n",
    "# then find out categorical colums\n",
    "cols = dataset_churn.columns\n",
    "\n",
    "print( \"categorical column\")\n",
    "dataset_churn_cat_column = list(set(cols) - set(num_cols))\n",
    "print(dataset_churn_cat_column)"
   ]
  },
  {
   "cell_type": "code",
   "execution_count": 16,
   "metadata": {},
   "outputs": [
    {
     "name": "stdout",
     "output_type": "stream",
     "text": [
      "MultipleLines - ['No phone service' 'No' 'Yes']\n",
      "DeviceProtection - ['No' 'Yes' 'No internet service']\n",
      "Gender - ['Female' 'Male']\n",
      "TechSupport - ['No' 'Yes' 'No internet service']\n",
      "OnlineBackup - ['Yes' 'No' 'No internet service']\n",
      "OnlineSecurity - ['No' 'Yes' 'No internet service']\n",
      "Dependents - ['No' 'Yes']\n",
      "Contract - ['Month-to-month' 'One year' 'Two year']\n",
      "StreamingTV - ['No' 'Yes' 'No internet service']\n",
      "Partner - ['Yes' 'No']\n",
      "CustomerID - ['7590-VHVEG' '5575-GNVDE' '3668-QPYBK' ... '4801-JZAZL' '8361-LTMKD'\n",
      " '3186-AJIEK']\n",
      "StreamingMovies - ['No' 'Yes' 'No internet service']\n",
      "PaymentMethod - ['Electronic check' 'Mailed check' 'Bank transfer (automatic)'\n",
      " 'Credit card (automatic)']\n",
      "InternetService - ['DSL' 'Fiber optic' 'No']\n",
      "PaperlessBilling - ['Yes' 'No']\n",
      "Churn - ['No' 'Yes']\n",
      "PhoneService - ['No' 'Yes']\n"
     ]
    }
   ],
   "source": [
    "# Printing Unique values in each categorical column\n",
    "for col in dataset_churn_cat_column:\n",
    "    print(col, \"-\", dataset_churn[col].unique())"
   ]
  },
  {
   "cell_type": "markdown",
   "metadata": {},
   "source": [
    "# Observations :\n",
    "1) Gender, Partner, Dependents, PhoneService, PaperlessBilling and Churn - They have 2 unique categories - Yes/No and for gender  Male/Female\n",
    "\n",
    "2) MultipleLines, InternetService, OnlineSecurity, OnlineBackup, DeviceProtection, TechSupport, StreamingTV, StreamingMovies, Contract - They have 3 unique categories\n",
    "\n",
    "3) Payment Method - 4 unique categories or 4 methods by which customer pays for their service"
   ]
  },
  {
   "cell_type": "markdown",
   "metadata": {},
   "source": [
    "# Get missing values\n"
   ]
  },
  {
   "cell_type": "code",
   "execution_count": 17,
   "metadata": {},
   "outputs": [
    {
     "name": "stdout",
     "output_type": "stream",
     "text": [
      "Assess missing values in dataset\n",
      "                  Total  Percent\n",
      "Churn                 0      0.0\n",
      "OnlineSecurity        0      0.0\n",
      "Gender                0      0.0\n",
      "SeniorCitizen         0      0.0\n",
      "Partner               0      0.0\n",
      "Dependents            0      0.0\n",
      "Tenure                0      0.0\n",
      "PhoneService          0      0.0\n",
      "MultipleLines         0      0.0\n",
      "InternetService       0      0.0\n",
      "OnlineBackup          0      0.0\n",
      "TotalCharges          0      0.0\n",
      "DeviceProtection      0      0.0\n",
      "TechSupport           0      0.0\n",
      "StreamingTV           0      0.0\n",
      "StreamingMovies       0      0.0\n",
      "Contract              0      0.0\n",
      "PaperlessBilling      0      0.0\n",
      "PaymentMethod         0      0.0\n",
      "MonthlyCharges        0      0.0\n",
      "CustomerID            0      0.0\n"
     ]
    }
   ],
   "source": [
    "print(\"Assess missing values in dataset\")\n",
    "total = dataset_churn.isnull().sum().sort_values(ascending=False)\n",
    "percent = (dataset_churn.isnull().sum()/dataset_churn.isnull().count()).sort_values(ascending=False)\n",
    "missing_data = pd.concat([total, percent], axis=1, keys=['Total', 'Percent'])\n",
    "print(missing_data)"
   ]
  },
  {
   "cell_type": "markdown",
   "metadata": {},
   "source": [
    "Observation - No missing values. But remember, we replaced columns with 0 values. We need data to be filled into that columns. Now let's find a way."
   ]
  },
  {
   "cell_type": "code",
   "execution_count": 18,
   "metadata": {},
   "outputs": [
    {
     "data": {
      "text/html": [
       "<div>\n",
       "<style scoped>\n",
       "    .dataframe tbody tr th:only-of-type {\n",
       "        vertical-align: middle;\n",
       "    }\n",
       "\n",
       "    .dataframe tbody tr th {\n",
       "        vertical-align: top;\n",
       "    }\n",
       "\n",
       "    .dataframe thead th {\n",
       "        text-align: right;\n",
       "    }\n",
       "</style>\n",
       "<table border=\"1\" class=\"dataframe\">\n",
       "  <thead>\n",
       "    <tr style=\"text-align: right;\">\n",
       "      <th></th>\n",
       "      <th>MonthlyCharges</th>\n",
       "      <th>Tenure</th>\n",
       "      <th>TotalCharges</th>\n",
       "    </tr>\n",
       "  </thead>\n",
       "  <tbody>\n",
       "    <tr>\n",
       "      <th>1210</th>\n",
       "      <td>69.00</td>\n",
       "      <td>17</td>\n",
       "      <td>1149.65</td>\n",
       "    </tr>\n",
       "    <tr>\n",
       "      <th>3350</th>\n",
       "      <td>44.15</td>\n",
       "      <td>1</td>\n",
       "      <td>44.15</td>\n",
       "    </tr>\n",
       "    <tr>\n",
       "      <th>2484</th>\n",
       "      <td>20.50</td>\n",
       "      <td>12</td>\n",
       "      <td>255.50</td>\n",
       "    </tr>\n",
       "    <tr>\n",
       "      <th>2260</th>\n",
       "      <td>80.10</td>\n",
       "      <td>3</td>\n",
       "      <td>217.55</td>\n",
       "    </tr>\n",
       "    <tr>\n",
       "      <th>2477</th>\n",
       "      <td>86.05</td>\n",
       "      <td>3</td>\n",
       "      <td>244.85</td>\n",
       "    </tr>\n",
       "    <tr>\n",
       "      <th>5931</th>\n",
       "      <td>98.00</td>\n",
       "      <td>13</td>\n",
       "      <td>1237.85</td>\n",
       "    </tr>\n",
       "    <tr>\n",
       "      <th>3280</th>\n",
       "      <td>58.60</td>\n",
       "      <td>55</td>\n",
       "      <td>3068.60</td>\n",
       "    </tr>\n",
       "    <tr>\n",
       "      <th>3240</th>\n",
       "      <td>106.55</td>\n",
       "      <td>54</td>\n",
       "      <td>5763.30</td>\n",
       "    </tr>\n",
       "    <tr>\n",
       "      <th>1420</th>\n",
       "      <td>99.80</td>\n",
       "      <td>60</td>\n",
       "      <td>5985.75</td>\n",
       "    </tr>\n",
       "    <tr>\n",
       "      <th>5005</th>\n",
       "      <td>104.70</td>\n",
       "      <td>39</td>\n",
       "      <td>4134.85</td>\n",
       "    </tr>\n",
       "    <tr>\n",
       "      <th>767</th>\n",
       "      <td>20.40</td>\n",
       "      <td>14</td>\n",
       "      <td>275.70</td>\n",
       "    </tr>\n",
       "    <tr>\n",
       "      <th>152</th>\n",
       "      <td>108.15</td>\n",
       "      <td>70</td>\n",
       "      <td>7930.55</td>\n",
       "    </tr>\n",
       "    <tr>\n",
       "      <th>3404</th>\n",
       "      <td>55.60</td>\n",
       "      <td>35</td>\n",
       "      <td>2016.45</td>\n",
       "    </tr>\n",
       "    <tr>\n",
       "      <th>1554</th>\n",
       "      <td>20.90</td>\n",
       "      <td>26</td>\n",
       "      <td>518.30</td>\n",
       "    </tr>\n",
       "    <tr>\n",
       "      <th>6997</th>\n",
       "      <td>76.10</td>\n",
       "      <td>27</td>\n",
       "      <td>2093.40</td>\n",
       "    </tr>\n",
       "    <tr>\n",
       "      <th>4192</th>\n",
       "      <td>20.15</td>\n",
       "      <td>23</td>\n",
       "      <td>405.60</td>\n",
       "    </tr>\n",
       "    <tr>\n",
       "      <th>643</th>\n",
       "      <td>89.85</td>\n",
       "      <td>49</td>\n",
       "      <td>4287.20</td>\n",
       "    </tr>\n",
       "    <tr>\n",
       "      <th>4763</th>\n",
       "      <td>91.55</td>\n",
       "      <td>58</td>\n",
       "      <td>5511.65</td>\n",
       "    </tr>\n",
       "    <tr>\n",
       "      <th>3657</th>\n",
       "      <td>24.10</td>\n",
       "      <td>37</td>\n",
       "      <td>861.85</td>\n",
       "    </tr>\n",
       "    <tr>\n",
       "      <th>2130</th>\n",
       "      <td>94.80</td>\n",
       "      <td>51</td>\n",
       "      <td>4837.60</td>\n",
       "    </tr>\n",
       "  </tbody>\n",
       "</table>\n",
       "</div>"
      ],
      "text/plain": [
       "      MonthlyCharges  Tenure  TotalCharges\n",
       "1210           69.00      17       1149.65\n",
       "3350           44.15       1         44.15\n",
       "2484           20.50      12        255.50\n",
       "2260           80.10       3        217.55\n",
       "2477           86.05       3        244.85\n",
       "5931           98.00      13       1237.85\n",
       "3280           58.60      55       3068.60\n",
       "3240          106.55      54       5763.30\n",
       "1420           99.80      60       5985.75\n",
       "5005          104.70      39       4134.85\n",
       "767            20.40      14        275.70\n",
       "152           108.15      70       7930.55\n",
       "3404           55.60      35       2016.45\n",
       "1554           20.90      26        518.30\n",
       "6997           76.10      27       2093.40\n",
       "4192           20.15      23        405.60\n",
       "643            89.85      49       4287.20\n",
       "4763           91.55      58       5511.65\n",
       "3657           24.10      37        861.85\n",
       "2130           94.80      51       4837.60"
      ]
     },
     "execution_count": 18,
     "metadata": {},
     "output_type": "execute_result"
    }
   ],
   "source": [
    "dataset_churn[['MonthlyCharges','Tenure','TotalCharges']].sample(20)"
   ]
  },
  {
   "cell_type": "markdown",
   "metadata": {},
   "source": [
    "TotalCharges looks like close to product of MonthlyCharges & Tenure , although not exact but close.\n",
    "\n",
    "We will replace the 0 values with ( MonthlyCharges * Tenure)"
   ]
  },
  {
   "cell_type": "code",
   "execution_count": 19,
   "metadata": {},
   "outputs": [
    {
     "name": "stdout",
     "output_type": "stream",
     "text": [
      "0 Value Rows--> [488, 753, 936, 1082, 1340, 3331, 3826, 4380, 5218, 6670, 6754] \n",
      "Total rows--> 11\n"
     ]
    }
   ],
   "source": [
    "#Identifying the rows containing 0 value in Total Charges\n",
    "zero_value_row = list(dataset_churn[dataset_churn['TotalCharges'] == 0].index)\n",
    "print('0 Value Rows-->', missing_value_row , '\\nTotal rows-->', len(missing_value_row))"
   ]
  },
  {
   "cell_type": "code",
   "execution_count": 20,
   "metadata": {},
   "outputs": [
    {
     "name": "stdout",
     "output_type": "stream",
     "text": [
      "52.55 0 0.0\n",
      "20.25 0 0.0\n",
      "80.85 0 0.0\n",
      "25.75 0 0.0\n",
      "56.05 0 0.0\n",
      "19.85 0 0.0\n",
      "25.35 0 0.0\n",
      "20.0 0 0.0\n",
      "19.7 0 0.0\n",
      "73.35 0 0.0\n",
      "61.9 0 0.0\n"
     ]
    }
   ],
   "source": [
    "#Validating the data\n",
    "for zero_row in zero_value_row :\n",
    "    print( dataset_churn['MonthlyCharges'][zero_row],dataset_churn['Tenure'][zero_row],dataset_churn['TotalCharges'][zero_row])"
   ]
  },
  {
   "cell_type": "markdown",
   "metadata": {},
   "source": [
    "Interesting ! So Tenure is 0 for the cstomers with TotalCharges as 0, that initially had a space. We will leave it as it"
   ]
  },
  {
   "cell_type": "markdown",
   "metadata": {},
   "source": [
    "# Univariate Analysis\n",
    "# Vizualizing the Categorical variables with bar chart"
   ]
  },
  {
   "cell_type": "code",
   "execution_count": 21,
   "metadata": {},
   "outputs": [],
   "source": [
    "#Removing the Numerical Variables\n",
    "dataset_churn_cat_column.remove('CustomerID')\n",
    "\n",
    "\n",
    "#Creating Column into 4X4 matrix to display 16 bar charts in 4X4 form:\n",
    "columns_hist_nparray = np.array(dataset_churn_cat_column)\n",
    "columns_hist_nparray = np.reshape(columns_hist_nparray, (4,4)) # reshaping the columns into 4X4 matrix"
   ]
  },
  {
   "cell_type": "code",
   "execution_count": 22,
   "metadata": {},
   "outputs": [
    {
     "data": {
      "text/plain": [
       "array([['MultipleLines', 'DeviceProtection', 'Gender', 'TechSupport'],\n",
       "       ['OnlineBackup', 'OnlineSecurity', 'Dependents', 'Contract'],\n",
       "       ['StreamingTV', 'Partner', 'StreamingMovies', 'PaymentMethod'],\n",
       "       ['InternetService', 'PaperlessBilling', 'Churn', 'PhoneService']],\n",
       "      dtype='<U16')"
      ]
     },
     "execution_count": 22,
     "metadata": {},
     "output_type": "execute_result"
    }
   ],
   "source": [
    "columns_hist_nparray"
   ]
  },
  {
   "cell_type": "code",
   "execution_count": 23,
   "metadata": {},
   "outputs": [
    {
     "name": "stdout",
     "output_type": "stream",
     "text": [
      "Univariate Analysis of each categorical Variables\n"
     ]
    },
    {
     "data": {
      "image/png": "[encoded data removed]",
      "text/plain": [
       "<Figure size 1440x1440 with 16 Axes>"
      ]
     },
     "metadata": {},
     "output_type": "display_data"
    }
   ],
   "source": [
    "# Plotting the bar chart\n",
    "rows = 4 ; columns = 4\n",
    "f, axes = plt.subplots(rows, columns, figsize=(20, 20))\n",
    "print('Univariate Analysis of each categorical Variables')\n",
    "for row in range(rows):\n",
    "    for column in range(columns):\n",
    "        sns.countplot(dataset_churn[columns_hist_nparray[row][column]], palette = \"Set1\", ax = axes[row, column])"
   ]
  },
  {
   "cell_type": "markdown",
   "metadata": {},
   "source": [
    "# Observations :\n",
    "1) We have almost equal genders in our dataset\n",
    "\n",
    "2) Almost 50% have partners\n",
    "\n",
    "3) Around 30% have dependants\n",
    "\n",
    "4) 90% of the customers have phone service\n",
    "\n",
    "5) Around 40% customers have multiple lines\n",
    "\n",
    "6) People prefer Fiber Optics over DSL for Internet\n",
    "\n",
    "7) Around 30% have taken online security.Majority of Customer don't have Online security or backup\n",
    "\n",
    "8) Close 35% prefer device protection\n",
    "\n",
    "9) Majority of Customer don't have Tech Support\n",
    "\n",
    "10) Around 37% have registered for Streaming TV & Movie\n",
    "\n",
    "11) Contract - Majority of customers are subscribed for Month to Month contract (55%)\n",
    "\n",
    "12) Majority of customers have opted Paperless billing\n",
    "\n",
    "13) Majority of customers pay eletronic check. 43 % prefer Automatic payment (Bank Transfer and Credit Card)\n",
    "\n",
    "14) Target Variable - \"Churn\" - We have unbalanced distribution (Yes - Approx 1800 ; No - Approx 5000). So Churn positive is 25% (Approx)."
   ]
  },
  {
   "cell_type": "markdown",
   "metadata": {},
   "source": [
    "# Vizualizing the Numeric variables\n",
    "# Histogram to see data distribution of Quantitative Variables(SeniorCitizen, tenure, MonthlyCharges, TotalCharges)"
   ]
  },
  {
   "cell_type": "code",
   "execution_count": 24,
   "metadata": {},
   "outputs": [
    {
     "name": "stdout",
     "output_type": "stream",
     "text": [
      "Univariate Analysis of each numerical Variables\n"
     ]
    },
    {
     "data": {
      "text/plain": [
       "<matplotlib.axes._subplots.AxesSubplot at 0x22ee6a0e2e8>"
      ]
     },
     "execution_count": 24,
     "metadata": {},
     "output_type": "execute_result"
    },
    {
     "data": {
      "image/png": "[encoded data removed]",
      "text/plain": [
       "<Figure size 1440x720 with 6 Axes>"
      ]
     },
     "metadata": {},
     "output_type": "display_data"
    }
   ],
   "source": [
    "print('Univariate Analysis of each numerical Variables')\n",
    "f, axes = plt.subplots(2, 3, figsize=(20,10))\n",
    "#Charting the histogram\n",
    "dataset_churn[\"Tenure\"].plot.hist(color='DarkBlue', alpha=0.7, bins=50, title='Tenure',ax=axes[0, 0])\n",
    "dataset_churn[\"MonthlyCharges\"].plot.hist(color='DarkBlue', alpha=0.7, bins=50, title='MonthlyCharges',ax=axes[0, 1])\n",
    "dataset_churn[\"TotalCharges\"].plot.hist(color='DarkBlue', alpha=0.7, bins=50, title='TotalCharges',ax=axes[0, 2])\n",
    "\n",
    "#Charting the density plot\n",
    "sns.distplot( dataset_churn[\"Tenure\"] , kde=True, rug=False, color=\"skyblue\", ax=axes[1, 0])\n",
    "sns.distplot( dataset_churn[\"MonthlyCharges\"] , kde=True, rug=False, color=\"olive\", ax=axes[1, 1])\n",
    "sns.distplot( dataset_churn[\"TotalCharges\"] , kde=True, rug=False, color=\"gold\", ax=axes[1, 2])"
   ]
  },
  {
   "cell_type": "markdown",
   "metadata": {},
   "source": [
    "# Observations:\n",
    "1) Tenure:\n",
    "\n",
    "    1.1. Not a normal distribution. Bi-Modal distribution (having 2 peaks) which means data is concentrated across two \n",
    "different groups\n",
    "\n",
    "    1.2 We have major chunk of customers in 0-1 month period. Lot of them might be cutomers who tried the service and left \n",
    "or liked the service and continued\n",
    "\n",
    "    1.3. Between 10 months to 65 months, we can see flat distribution of data.\n",
    "\n",
    "    1.4. We have lot customers in 69-72 months range. They are the loyal customers\n",
    "\n",
    "2) Monthly Charges -\n",
    "\n",
    "    2.1. Not a normal distribution.Close to Bi-Modal distribution\n",
    "\n",
    "    2.2. Majority of customers are paying  18to 20 dollars. Must be the service charge for basic service. Majority of \n",
    "         customers are subscribed to basic package.\n",
    "\n",
    "    2.3. Between  70− 100 dollars, we have quite a number of customers. They might be the ones subscribed for multiple services.\n",
    "\n",
    "3) Total Charges -\n",
    "\n",
    "    3.1. Data is positively skewed.\n",
    "\n",
    "    3.2. Majority of the population have spent close to $1,100 dollars\n",
    "\n",
    "    3.3. Cutomers have spent upto $9,000 dollars"
   ]
  },
  {
   "cell_type": "markdown",
   "metadata": {},
   "source": [
    "#  Barchart for the Gender (0 is No , 1 is Yes)"
   ]
  },
  {
   "cell_type": "code",
   "execution_count": 25,
   "metadata": {},
   "outputs": [
    {
     "data": {
      "text/plain": [
       "<matplotlib.axes._subplots.AxesSubplot at 0x22ee6add898>"
      ]
     },
     "execution_count": 25,
     "metadata": {},
     "output_type": "execute_result"
    },
    {
     "data": {
      "image/png": "[encoded data removed]",
      "text/plain": [
       "<Figure size 432x288 with 1 Axes>"
      ]
     },
     "metadata": {},
     "output_type": "display_data"
    }
   ],
   "source": [
    "sns.countplot(dataset_churn['SeniorCitizen'], palette = \"Set1\")"
   ]
  },
  {
   "cell_type": "markdown",
   "metadata": {},
   "source": [
    "###### Let's Check for Outliers using Box Plot for Tenure, MonthlyCharges, TotalCharges¶"
   ]
  },
  {
   "cell_type": "code",
   "execution_count": 26,
   "metadata": {},
   "outputs": [
    {
     "data": {
      "text/plain": [
       "<matplotlib.axes._subplots.AxesSubplot at 0x22ee6d08c18>"
      ]
     },
     "execution_count": 26,
     "metadata": {},
     "output_type": "execute_result"
    },
    {
     "data": {
      "image/png": "[encoded data removed]",
      "text/plain": [
       "<Figure size 1080x360 with 3 Axes>"
      ]
     },
     "metadata": {},
     "output_type": "display_data"
    }
   ],
   "source": [
    "f, axes = plt.subplots(1, 3, figsize=(15,5))\n",
    "sns.boxplot(x=dataset_churn[\"Tenure\"], orient=\"v\", color=\"olive\",ax=axes[0])\n",
    "sns.boxplot(x=dataset_churn[\"MonthlyCharges\"], orient=\"v\", color=\"gold\",ax=axes[1])\n",
    "sns.boxplot(x=dataset_churn[\"TotalCharges\"] , orient=\"v\", color=\"skyblue\",ax=axes[2])"
   ]
  },
  {
   "cell_type": "markdown",
   "metadata": {},
   "source": [
    "Observation - Seems like we dont have outliers !"
   ]
  },
  {
   "cell_type": "markdown",
   "metadata": {},
   "source": [
    "##### Bivariate Analysis\n",
    "Correlating the features with Target column (Churn) Let us start by understanding correlations between numerical features and our solution goal (Churn).\n",
    "\n",
    "A histogram chart is useful for analyzing continous numerical variables like tenure , Monthly Charges and Total Charges where banding or ranges will help identify useful patterns. The histogram can indicate distribution of samples using automatically defined bins or equally ranged bands. This helps us answer questions relating to specific bands."
   ]
  },
  {
   "cell_type": "code",
   "execution_count": 27,
   "metadata": {},
   "outputs": [],
   "source": [
    "# Converting the categorical variable to numerical variable\n",
    "dataset_churn['Churn_Num'] = dataset_churn['Churn'].map( {'Yes': 1, 'No': 0} ).astype(int)"
   ]
  },
  {
   "cell_type": "code",
   "execution_count": 28,
   "metadata": {},
   "outputs": [
    {
     "data": {
      "text/html": [
       "<div>\n",
       "<style scoped>\n",
       "    .dataframe tbody tr th:only-of-type {\n",
       "        vertical-align: middle;\n",
       "    }\n",
       "\n",
       "    .dataframe tbody tr th {\n",
       "        vertical-align: top;\n",
       "    }\n",
       "\n",
       "    .dataframe thead th {\n",
       "        text-align: right;\n",
       "    }\n",
       "</style>\n",
       "<table border=\"1\" class=\"dataframe\">\n",
       "  <thead>\n",
       "    <tr style=\"text-align: right;\">\n",
       "      <th></th>\n",
       "      <th>Churn</th>\n",
       "      <th>Churn_Num</th>\n",
       "    </tr>\n",
       "  </thead>\n",
       "  <tbody>\n",
       "    <tr>\n",
       "      <th>0</th>\n",
       "      <td>No</td>\n",
       "      <td>0</td>\n",
       "    </tr>\n",
       "    <tr>\n",
       "      <th>1</th>\n",
       "      <td>No</td>\n",
       "      <td>0</td>\n",
       "    </tr>\n",
       "    <tr>\n",
       "      <th>2</th>\n",
       "      <td>Yes</td>\n",
       "      <td>1</td>\n",
       "    </tr>\n",
       "    <tr>\n",
       "      <th>3</th>\n",
       "      <td>No</td>\n",
       "      <td>0</td>\n",
       "    </tr>\n",
       "    <tr>\n",
       "      <th>4</th>\n",
       "      <td>Yes</td>\n",
       "      <td>1</td>\n",
       "    </tr>\n",
       "  </tbody>\n",
       "</table>\n",
       "</div>"
      ],
      "text/plain": [
       "  Churn  Churn_Num\n",
       "0    No          0\n",
       "1    No          0\n",
       "2   Yes          1\n",
       "3    No          0\n",
       "4   Yes          1"
      ]
     },
     "execution_count": 28,
     "metadata": {},
     "output_type": "execute_result"
    }
   ],
   "source": [
    "# Validating the mappaing\n",
    "dataset_churn[['Churn','Churn_Num']].head()"
   ]
  },
  {
   "cell_type": "code",
   "execution_count": 29,
   "metadata": {},
   "outputs": [
    {
     "data": {
      "text/plain": [
       "<seaborn.axisgrid.FacetGrid at 0x22ee62aa5f8>"
      ]
     },
     "execution_count": 29,
     "metadata": {},
     "output_type": "execute_result"
    },
    {
     "data": {
      "image/png": "[encoded data removed]",
      "text/plain": [
       "<Figure size 432x216 with 2 Axes>"
      ]
     },
     "metadata": {},
     "output_type": "display_data"
    }
   ],
   "source": [
    "# Plotting Tenure Column with Churn\n",
    "# Churn_num indicates customer who left the company. 0 indicates customer who stayed.\n",
    "fighist = sns.FacetGrid(dataset_churn, col='Churn_Num')\n",
    "fighist.map(plt.hist, 'Tenure', bins=20) "
   ]
  },
  {
   "cell_type": "markdown",
   "metadata": {},
   "source": [
    "###### Observations:\n",
    "1) Customer who left the Telco are mostly customers within 1st month (600+) and churn steady declines with time.\n",
    "\n",
    "2) If customer can be retained between 10-20 months, there are high chances, customer will stay very long. Churn decreases over time\n",
    "\n",
    "3) Customer at 72 month tenure, mostly stayed (Churn=0).\n",
    "\n",
    "###### Decisions:\n",
    "1) We should definitely use 'Tenure' column in our model training."
   ]
  },
  {
   "cell_type": "code",
   "execution_count": 30,
   "metadata": {},
   "outputs": [
    {
     "data": {
      "text/plain": [
       "<seaborn.axisgrid.FacetGrid at 0x22ee66d9588>"
      ]
     },
     "execution_count": 30,
     "metadata": {},
     "output_type": "execute_result"
    },
    {
     "data": {
      "image/png": "[encoded data removed]",
      "text/plain": [
       "<Figure size 432x216 with 2 Axes>"
      ]
     },
     "metadata": {},
     "output_type": "display_data"
    }
   ],
   "source": [
    "# Plotting MonthlyCharges Column with Churn\n",
    "# Churn_num indicates customer who left the company. 0 indicates customer who stayed.\n",
    "fighist = sns.FacetGrid(dataset_churn, col='Churn_Num')\n",
    "fighist.map(plt.hist, 'MonthlyCharges', bins=20)"
   ]
  },
  {
   "cell_type": "markdown",
   "metadata": {},
   "source": [
    "#### Observation :\n",
    "Majority of customers are in 18 to 20 range and they didn't leave\n",
    "\n",
    "Customer Leaving are mostly in the band of 75-100 who have opted for multiple services."
   ]
  },
  {
   "cell_type": "code",
   "execution_count": 31,
   "metadata": {},
   "outputs": [
    {
     "data": {
      "text/plain": [
       "<seaborn.axisgrid.FacetGrid at 0x22ee72b1588>"
      ]
     },
     "execution_count": 31,
     "metadata": {},
     "output_type": "execute_result"
    },
    {
     "data": {
      "image/png": "[encoded data removed]",
      "text/plain": [
       "<Figure size 432x216 with 2 Axes>"
      ]
     },
     "metadata": {},
     "output_type": "display_data"
    }
   ],
   "source": [
    "# Plotting TotalCharges Column with Churn\n",
    "# Churn_num indicates customer who left the company. 0 indicates customer who stayed.\n",
    "fighist = sns.FacetGrid(dataset_churn, col='Churn_Num')\n",
    "fighist.map(plt.hist, 'TotalCharges', bins=20)"
   ]
  },
  {
   "cell_type": "markdown",
   "metadata": {},
   "source": [
    "##### Observation:\n",
    "It's difficult to conclude anything using this column. Total charges are Tenure * MonthlyCharges . Tenur might me high and Monthly charges may be low and vice-versa. Data is positively skewed."
   ]
  },
  {
   "cell_type": "markdown",
   "metadata": {},
   "source": [
    "# Now we will use the Categorical variables and their relationships with Churn"
   ]
  },
  {
   "cell_type": "code",
   "execution_count": 32,
   "metadata": {},
   "outputs": [],
   "source": [
    "col_list = dataset_churn_cat_column\n",
    "col_list.remove('Churn')\n",
    "\n",
    "        \n",
    "    "
   ]
  },
  {
   "cell_type": "code",
   "execution_count": 33,
   "metadata": {},
   "outputs": [
    {
     "data": {
      "image/png": "[encoded data removed]",
      "text/plain": [
       "<Figure size 460.8x288 with 2 Axes>"
      ]
     },
     "metadata": {},
     "output_type": "display_data"
    },
    {
     "data": {
      "image/png": "[encoded data removed]",
      "text/plain": [
       "<Figure size 460.8x288 with 2 Axes>"
      ]
     },
     "metadata": {},
     "output_type": "display_data"
    },
    {
     "data": {
      "image/png": "[encoded data removed]",
      "text/plain": [
       "<Figure size 460.8x288 with 2 Axes>"
      ]
     },
     "metadata": {},
     "output_type": "display_data"
    },
    {
     "data": {
      "image/png": "[encoded data removed]",
      "text/plain": [
       "<Figure size 460.8x288 with 2 Axes>"
      ]
     },
     "metadata": {},
     "output_type": "display_data"
    },
    {
     "data": {
      "image/png": "[encoded data removed]",
      "text/plain": [
       "<Figure size 460.8x288 with 2 Axes>"
      ]
     },
     "metadata": {},
     "output_type": "display_data"
    },
    {
     "data": {
      "image/png": "[encoded data removed]",
      "text/plain": [
       "<Figure size 460.8x288 with 2 Axes>"
      ]
     },
     "metadata": {},
     "output_type": "display_data"
    },
    {
     "data": {
      "image/png": "[encoded data removed]",
      "text/plain": [
       "<Figure size 460.8x288 with 2 Axes>"
      ]
     },
     "metadata": {},
     "output_type": "display_data"
    },
    {
     "data": {
      "image/png": "[encoded data removed]",
      "text/plain": [
       "<Figure size 460.8x288 with 2 Axes>"
      ]
     },
     "metadata": {},
     "output_type": "display_data"
    },
    {
     "data": {
      "image/png": "[encoded data removed]",
      "text/plain": [
       "<Figure size 460.8x288 with 2 Axes>"
      ]
     },
     "metadata": {},
     "output_type": "display_data"
    },
    {
     "data": {
      "image/png": "[encoded data removed]",
      "text/plain": [
       "<Figure size 460.8x288 with 2 Axes>"
      ]
     },
     "metadata": {},
     "output_type": "display_data"
    },
    {
     "data": {
      "image/png": "[encoded data removed]",
      "text/plain": [
       "<Figure size 460.8x288 with 2 Axes>"
      ]
     },
     "metadata": {},
     "output_type": "display_data"
    },
    {
     "data": {
      "image/png": "[encoded data removed]",
      "text/plain": [
       "<Figure size 1152x288 with 2 Axes>"
      ]
     },
     "metadata": {},
     "output_type": "display_data"
    },
    {
     "data": {
      "image/png": "[encoded data removed]",
      "text/plain": [
       "<Figure size 460.8x288 with 2 Axes>"
      ]
     },
     "metadata": {},
     "output_type": "display_data"
    },
    {
     "data": {
      "image/png": "[encoded data removed]",
      "text/plain": [
       "<Figure size 460.8x288 with 2 Axes>"
      ]
     },
     "metadata": {},
     "output_type": "display_data"
    },
    {
     "data": {
      "image/png": "[encoded data removed]",
      "text/plain": [
       "<Figure size 460.8x288 with 2 Axes>"
      ]
     },
     "metadata": {},
     "output_type": "display_data"
    }
   ],
   "source": [
    "for col in col_list:\n",
    "    if col == 'PaymentMethod':\n",
    "        aspect_ratio = 2.0\n",
    "    else:\n",
    "        aspect_ratio = 0.8\n",
    "    plot_cat_data = sns.catplot(x=col, col='Churn_Num', data = dataset_churn, kind='count', height=4, aspect=aspect_ratio)"
   ]
  },
  {
   "cell_type": "markdown",
   "metadata": {},
   "source": [
    "#### Observations (Churn_Num - 1 is \"Yes\" ; 0 is \"No\") :\n",
    "'Gender' : Difficult to determine Churn using this field. Counts are almost same in either category\n",
    "\n",
    "'Partner' : Customer with partner have lower chance of leaving\n",
    "\n",
    "'Dependents' :Customer with dependants have lower chance of leaving. We will merge Partner & Dependant Columns as 1 column\n",
    "\n",
    "'PhoneService' & 'MultipleLines' : We will merge these columns into PhoneLines - Single & Multiple and determine\n",
    "\n",
    "'InternetService' : Customer with Fiber Optic Interner Service have higher chances of leaving\n",
    "\n",
    "'OnlineSecurity' & 'OnlineBackup' : We will merge these columns for better visibility\n",
    "\n",
    "'DeviceProtection' : Customers without device protection have likely higher chances of leaving\n",
    "\n",
    "'TechSupport' - Customer not opting for TechSupport have higher chances of leaving\n",
    "\n",
    "'StreamingTV', 'StreamingMovies' - We will merge these columns into streaming and check again\n",
    "\n",
    "'Contract' - Month to Month customers have likely higher chances to leave\n",
    "\n",
    "'PaperlessBilling' - Customers with paperless billing have higher chances of leaving\n",
    "\n",
    "'PaymentMethod' - People paying with electronic check have higher chances of leaving"
   ]
  },
  {
   "cell_type": "markdown",
   "metadata": {},
   "source": [
    "### Creating new feature from existing set of columns using the above observations\n",
    "#### Creating bands for numerical variables - Tenure & Monthly Charges"
   ]
  },
  {
   "cell_type": "code",
   "execution_count": 34,
   "metadata": {},
   "outputs": [],
   "source": [
    "# Creating tenure band and co-relation with Churn\n",
    "dataset_churn['TenureRange'] = pd.cut(dataset_churn['Tenure'], 5)\n",
    "dataset_churn[['TenureRange', 'Churn_Num']].groupby(['TenureRange'], as_index=False).mean().sort_values(by='TenureRange', ascending=True)\n",
    "\n",
    "# Replacing Age band with ordinals based on these bands\n",
    "dataset_churn.loc[ dataset_churn['Tenure'] <= 8, 'TenureCat'] = 0\n",
    "dataset_churn.loc[(dataset_churn['Tenure'] > 8) & (dataset_churn['Tenure'] <= 15), 'TenureCat'] = 1\n",
    "dataset_churn.loc[(dataset_churn['Tenure'] > 15) & (dataset_churn['Tenure'] <= 30), 'TenureCat'] = 2\n",
    "dataset_churn.loc[(dataset_churn['Tenure'] > 30) & (dataset_churn['Tenure'] <= 45 ), 'TenureCat'] = 3\n",
    "dataset_churn.loc[(dataset_churn['Tenure'] > 45) & (dataset_churn['Tenure'] <= 60 ), 'TenureCat'] = 4\n",
    "dataset_churn.loc[ dataset_churn['Tenure'] > 60, 'TenureCat'] = 5"
   ]
  },
  {
   "cell_type": "code",
   "execution_count": 35,
   "metadata": {},
   "outputs": [
    {
     "data": {
      "text/plain": [
       "0       (-0.072, 14.4]\n",
       "1         (28.8, 43.2]\n",
       "2       (-0.072, 14.4]\n",
       "3         (43.2, 57.6]\n",
       "4       (-0.072, 14.4]\n",
       "5       (-0.072, 14.4]\n",
       "6         (14.4, 28.8]\n",
       "7       (-0.072, 14.4]\n",
       "8         (14.4, 28.8]\n",
       "9         (57.6, 72.0]\n",
       "10      (-0.072, 14.4]\n",
       "11        (14.4, 28.8]\n",
       "12        (57.6, 72.0]\n",
       "13        (43.2, 57.6]\n",
       "14        (14.4, 28.8]\n",
       "15        (57.6, 72.0]\n",
       "16        (43.2, 57.6]\n",
       "17        (57.6, 72.0]\n",
       "18      (-0.072, 14.4]\n",
       "19        (14.4, 28.8]\n",
       "20      (-0.072, 14.4]\n",
       "21      (-0.072, 14.4]\n",
       "22      (-0.072, 14.4]\n",
       "23        (57.6, 72.0]\n",
       "24        (43.2, 57.6]\n",
       "25        (28.8, 43.2]\n",
       "26        (43.2, 57.6]\n",
       "27      (-0.072, 14.4]\n",
       "28        (57.6, 72.0]\n",
       "29        (14.4, 28.8]\n",
       "             ...      \n",
       "7013      (28.8, 43.2]\n",
       "7014      (28.8, 43.2]\n",
       "7015      (28.8, 43.2]\n",
       "7016    (-0.072, 14.4]\n",
       "7017      (43.2, 57.6]\n",
       "7018    (-0.072, 14.4]\n",
       "7019      (28.8, 43.2]\n",
       "7020    (-0.072, 14.4]\n",
       "7021    (-0.072, 14.4]\n",
       "7022      (57.6, 72.0]\n",
       "7023      (57.6, 72.0]\n",
       "7024      (43.2, 57.6]\n",
       "7025      (14.4, 28.8]\n",
       "7026    (-0.072, 14.4]\n",
       "7027    (-0.072, 14.4]\n",
       "7028      (57.6, 72.0]\n",
       "7029    (-0.072, 14.4]\n",
       "7030    (-0.072, 14.4]\n",
       "7031      (43.2, 57.6]\n",
       "7032    (-0.072, 14.4]\n",
       "7033      (28.8, 43.2]\n",
       "7034      (57.6, 72.0]\n",
       "7035      (14.4, 28.8]\n",
       "7036    (-0.072, 14.4]\n",
       "7037      (57.6, 72.0]\n",
       "7038      (14.4, 28.8]\n",
       "7039      (57.6, 72.0]\n",
       "7040    (-0.072, 14.4]\n",
       "7041    (-0.072, 14.4]\n",
       "7042      (57.6, 72.0]\n",
       "Name: Tenure, Length: 7043, dtype: category\n",
       "Categories (5, interval[float64]): [(-0.072, 14.4] < (14.4, 28.8] < (28.8, 43.2] < (43.2, 57.6] < (57.6, 72.0]]"
      ]
     },
     "execution_count": 35,
     "metadata": {},
     "output_type": "execute_result"
    }
   ],
   "source": [
    "pd.cut(dataset_churn['Tenure'], 5)\n",
    "#dataset_churn"
   ]
  },
  {
   "cell_type": "code",
   "execution_count": 36,
   "metadata": {},
   "outputs": [
    {
     "data": {
      "text/html": [
       "<div>\n",
       "<style scoped>\n",
       "    .dataframe tbody tr th:only-of-type {\n",
       "        vertical-align: middle;\n",
       "    }\n",
       "\n",
       "    .dataframe tbody tr th {\n",
       "        vertical-align: top;\n",
       "    }\n",
       "\n",
       "    .dataframe thead th {\n",
       "        text-align: right;\n",
       "    }\n",
       "</style>\n",
       "<table border=\"1\" class=\"dataframe\">\n",
       "  <thead>\n",
       "    <tr style=\"text-align: right;\">\n",
       "      <th></th>\n",
       "      <th>Tenure</th>\n",
       "      <th>TenureRange</th>\n",
       "      <th>TenureCat</th>\n",
       "    </tr>\n",
       "  </thead>\n",
       "  <tbody>\n",
       "    <tr>\n",
       "      <th>0</th>\n",
       "      <td>1</td>\n",
       "      <td>(-0.072, 14.4]</td>\n",
       "      <td>0.0</td>\n",
       "    </tr>\n",
       "    <tr>\n",
       "      <th>1</th>\n",
       "      <td>34</td>\n",
       "      <td>(28.8, 43.2]</td>\n",
       "      <td>3.0</td>\n",
       "    </tr>\n",
       "    <tr>\n",
       "      <th>2</th>\n",
       "      <td>2</td>\n",
       "      <td>(-0.072, 14.4]</td>\n",
       "      <td>0.0</td>\n",
       "    </tr>\n",
       "    <tr>\n",
       "      <th>3</th>\n",
       "      <td>45</td>\n",
       "      <td>(43.2, 57.6]</td>\n",
       "      <td>3.0</td>\n",
       "    </tr>\n",
       "    <tr>\n",
       "      <th>4</th>\n",
       "      <td>2</td>\n",
       "      <td>(-0.072, 14.4]</td>\n",
       "      <td>0.0</td>\n",
       "    </tr>\n",
       "    <tr>\n",
       "      <th>5</th>\n",
       "      <td>8</td>\n",
       "      <td>(-0.072, 14.4]</td>\n",
       "      <td>0.0</td>\n",
       "    </tr>\n",
       "    <tr>\n",
       "      <th>6</th>\n",
       "      <td>22</td>\n",
       "      <td>(14.4, 28.8]</td>\n",
       "      <td>2.0</td>\n",
       "    </tr>\n",
       "    <tr>\n",
       "      <th>7</th>\n",
       "      <td>10</td>\n",
       "      <td>(-0.072, 14.4]</td>\n",
       "      <td>1.0</td>\n",
       "    </tr>\n",
       "    <tr>\n",
       "      <th>8</th>\n",
       "      <td>28</td>\n",
       "      <td>(14.4, 28.8]</td>\n",
       "      <td>2.0</td>\n",
       "    </tr>\n",
       "    <tr>\n",
       "      <th>9</th>\n",
       "      <td>62</td>\n",
       "      <td>(57.6, 72.0]</td>\n",
       "      <td>5.0</td>\n",
       "    </tr>\n",
       "  </tbody>\n",
       "</table>\n",
       "</div>"
      ],
      "text/plain": [
       "   Tenure     TenureRange  TenureCat\n",
       "0       1  (-0.072, 14.4]        0.0\n",
       "1      34    (28.8, 43.2]        3.0\n",
       "2       2  (-0.072, 14.4]        0.0\n",
       "3      45    (43.2, 57.6]        3.0\n",
       "4       2  (-0.072, 14.4]        0.0\n",
       "5       8  (-0.072, 14.4]        0.0\n",
       "6      22    (14.4, 28.8]        2.0\n",
       "7      10  (-0.072, 14.4]        1.0\n",
       "8      28    (14.4, 28.8]        2.0\n",
       "9      62    (57.6, 72.0]        5.0"
      ]
     },
     "execution_count": 36,
     "metadata": {},
     "output_type": "execute_result"
    }
   ],
   "source": [
    "\n",
    "dataset_churn[['Tenure','TenureRange','TenureCat']].head(10)"
   ]
  },
  {
   "cell_type": "code",
   "execution_count": 37,
   "metadata": {},
   "outputs": [
    {
     "data": {
      "text/html": [
       "<div>\n",
       "<style scoped>\n",
       "    .dataframe tbody tr th:only-of-type {\n",
       "        vertical-align: middle;\n",
       "    }\n",
       "\n",
       "    .dataframe tbody tr th {\n",
       "        vertical-align: top;\n",
       "    }\n",
       "\n",
       "    .dataframe thead th {\n",
       "        text-align: right;\n",
       "    }\n",
       "</style>\n",
       "<table border=\"1\" class=\"dataframe\">\n",
       "  <thead>\n",
       "    <tr style=\"text-align: right;\">\n",
       "      <th></th>\n",
       "      <th>MonthlyCharges</th>\n",
       "      <th>MonthlyChargesRange</th>\n",
       "      <th>MonthlyChargesCat</th>\n",
       "    </tr>\n",
       "  </thead>\n",
       "  <tbody>\n",
       "    <tr>\n",
       "      <th>0</th>\n",
       "      <td>29.85</td>\n",
       "      <td>(18.15, 38.35]</td>\n",
       "      <td>1.0</td>\n",
       "    </tr>\n",
       "    <tr>\n",
       "      <th>1</th>\n",
       "      <td>56.95</td>\n",
       "      <td>(38.35, 58.45]</td>\n",
       "      <td>2.0</td>\n",
       "    </tr>\n",
       "    <tr>\n",
       "      <th>2</th>\n",
       "      <td>53.85</td>\n",
       "      <td>(38.35, 58.45]</td>\n",
       "      <td>2.0</td>\n",
       "    </tr>\n",
       "    <tr>\n",
       "      <th>3</th>\n",
       "      <td>42.30</td>\n",
       "      <td>(38.35, 58.45]</td>\n",
       "      <td>2.0</td>\n",
       "    </tr>\n",
       "    <tr>\n",
       "      <th>4</th>\n",
       "      <td>70.70</td>\n",
       "      <td>(58.45, 78.55]</td>\n",
       "      <td>3.0</td>\n",
       "    </tr>\n",
       "    <tr>\n",
       "      <th>5</th>\n",
       "      <td>99.65</td>\n",
       "      <td>(98.65, 118.75]</td>\n",
       "      <td>4.0</td>\n",
       "    </tr>\n",
       "    <tr>\n",
       "      <th>6</th>\n",
       "      <td>89.10</td>\n",
       "      <td>(78.55, 98.65]</td>\n",
       "      <td>4.0</td>\n",
       "    </tr>\n",
       "    <tr>\n",
       "      <th>7</th>\n",
       "      <td>29.75</td>\n",
       "      <td>(18.15, 38.35]</td>\n",
       "      <td>1.0</td>\n",
       "    </tr>\n",
       "    <tr>\n",
       "      <th>8</th>\n",
       "      <td>104.80</td>\n",
       "      <td>(98.65, 118.75]</td>\n",
       "      <td>5.0</td>\n",
       "    </tr>\n",
       "    <tr>\n",
       "      <th>9</th>\n",
       "      <td>56.15</td>\n",
       "      <td>(38.35, 58.45]</td>\n",
       "      <td>2.0</td>\n",
       "    </tr>\n",
       "  </tbody>\n",
       "</table>\n",
       "</div>"
      ],
      "text/plain": [
       "   MonthlyCharges MonthlyChargesRange  MonthlyChargesCat\n",
       "0           29.85      (18.15, 38.35]                1.0\n",
       "1           56.95      (38.35, 58.45]                2.0\n",
       "2           53.85      (38.35, 58.45]                2.0\n",
       "3           42.30      (38.35, 58.45]                2.0\n",
       "4           70.70      (58.45, 78.55]                3.0\n",
       "5           99.65     (98.65, 118.75]                4.0\n",
       "6           89.10      (78.55, 98.65]                4.0\n",
       "7           29.75      (18.15, 38.35]                1.0\n",
       "8          104.80     (98.65, 118.75]                5.0\n",
       "9           56.15      (38.35, 58.45]                2.0"
      ]
     },
     "execution_count": 37,
     "metadata": {},
     "output_type": "execute_result"
    }
   ],
   "source": [
    "# Creating MonthlyCharges Band and co-relation with Churn\n",
    "dataset_churn['MonthlyChargesRange'] = pd.cut(dataset_churn['MonthlyCharges'], 5)\n",
    "dataset_churn[['MonthlyChargesRange', 'Churn_Num']].groupby(['MonthlyChargesRange'], as_index=False).mean().sort_values(by='MonthlyChargesRange', ascending=True)\n",
    "\n",
    "# Replacing Age band with ordinals based on these bands\n",
    "dataset_churn.loc[ dataset_churn['MonthlyCharges'] <= 20, 'MonthlyChargesCat'] = 0\n",
    "dataset_churn.loc[(dataset_churn['MonthlyCharges'] > 20) & (dataset_churn['MonthlyCharges'] <= 40), 'MonthlyChargesCat'] = 1\n",
    "dataset_churn.loc[(dataset_churn['MonthlyCharges'] > 40) & (dataset_churn['MonthlyCharges'] <= 60), 'MonthlyChargesCat'] = 2\n",
    "dataset_churn.loc[(dataset_churn['MonthlyCharges'] > 60) & (dataset_churn['MonthlyCharges'] <= 80 ), 'MonthlyChargesCat'] = 3\n",
    "dataset_churn.loc[(dataset_churn['MonthlyCharges'] > 80) & (dataset_churn['MonthlyCharges'] <= 100 ), 'MonthlyChargesCat'] = 4\n",
    "dataset_churn.loc[ dataset_churn['MonthlyCharges'] > 100, 'MonthlyChargesCat'] = 5\n",
    "\n",
    "#Checking the categories\n",
    "dataset_churn[['MonthlyCharges','MonthlyChargesRange','MonthlyChargesCat']].head(10)"
   ]
  },
  {
   "cell_type": "markdown",
   "metadata": {},
   "source": [
    "### Creating new derived columns for Categorical variables"
   ]
  },
  {
   "cell_type": "code",
   "execution_count": 38,
   "metadata": {},
   "outputs": [
    {
     "data": {
      "image/png": "[encoded data removed]",
      "text/plain": [
       "<Figure size 460.8x288 with 2 Axes>"
      ]
     },
     "metadata": {},
     "output_type": "display_data"
    },
    {
     "data": {
      "image/png": "[encoded data removed]",
      "text/plain": [
       "<Figure size 460.8x288 with 2 Axes>"
      ]
     },
     "metadata": {},
     "output_type": "display_data"
    },
    {
     "data": {
      "image/png": "[encoded data removed]",
      "text/plain": [
       "<Figure size 460.8x288 with 2 Axes>"
      ]
     },
     "metadata": {},
     "output_type": "display_data"
    }
   ],
   "source": [
    "#Creating a new column for family. If a customer has dependant or Partner, I am considering it as family .\n",
    "list_family = []\n",
    "for rows in range(len(dataset_churn['Partner'])):\n",
    "    if ((dataset_churn['Partner'][rows] == 'No') and (dataset_churn['Dependents'][rows] == 'No')):\n",
    "        list_family.append('No')\n",
    "    else:\n",
    "        list_family.append('Yes')\n",
    "dataset_churn['Family'] = list_family\n",
    "#print(datset_churn[['Partner', 'Dependents', 'Family' ]].head(10))\n",
    "\n",
    "#Creating a new column for Online Services (Online Security & Online Backup) . If a customer has Online Security or Online Backup services\n",
    "#then , I am considering it as \"Yes\" else \"No\"\n",
    "list_online_services = []\n",
    "for rows_os in range(len(dataset_churn['OnlineSecurity'])):\n",
    "    if ((dataset_churn['OnlineSecurity'][rows_os] == 'No') and (dataset_churn['OnlineBackup'][rows_os] == 'No')):\n",
    "        list_online_services.append('No')\n",
    "    else:\n",
    "        list_online_services.append('Yes')\n",
    "dataset_churn['OnlineServices'] = list_online_services\n",
    "\n",
    "#print(datset_churn[['OnlineSecurity', 'OnlineBackup', 'OnlineServices' ]].head(10))\n",
    " \n",
    "#Creating a new column for Streaming Services (StreamingTV & StreamingMovies) . If a customer has StreamingTV or StreamingMovies\n",
    "#then , I am considering it as \"Yes\" else \"No\"\n",
    "list_streaming_services = []\n",
    "for rows_stv in range(len(dataset_churn['StreamingTV'])):\n",
    "    if ((dataset_churn['StreamingTV'][rows_stv] == 'No') and (dataset_churn['StreamingMovies'][rows_stv] == 'No')):\n",
    "        list_streaming_services.append('No')\n",
    "    else:\n",
    "        list_streaming_services.append('Yes')\n",
    "dataset_churn['StreamingServices'] = list_streaming_services\n",
    "\n",
    "#print(datset_churn[['StreamingTV', 'StreamingMovies', 'StreamingServices' ]].head(10))\n",
    "\n",
    "plot_cat_data = sns.catplot(x='Family', col='Churn_Num', data = dataset_churn, kind='count', height=4, aspect=0.8)\n",
    "plot_cat_data = sns.catplot(x='OnlineServices', col='Churn_Num', data = dataset_churn, kind='count', height=4, aspect=0.8)\n",
    "plot_cat_data = sns.catplot(x='StreamingServices', col='Churn_Num', data = dataset_churn, kind='count', height=4, aspect=0.8)\n"
   ]
  },
  {
   "cell_type": "markdown",
   "metadata": {},
   "source": [
    "#### Observation\n",
    "Customers with family are less likely to Churn\n",
    "\n",
    "Customers not opted for online services (online backup or security) have slightly higher chances of churn\n",
    "\n",
    "Customer opted for Streaming Services seems to have slightly higher chances of churn"
   ]
  },
  {
   "cell_type": "markdown",
   "metadata": {},
   "source": [
    "### Preparing Columns for Classification\n",
    "##### Converting the Object/Categorical Variable to Numerical Variable"
   ]
  },
  {
   "cell_type": "code",
   "execution_count": 39,
   "metadata": {},
   "outputs": [
    {
     "name": "stdout",
     "output_type": "stream",
     "text": [
      "<class 'pandas.core.frame.DataFrame'>\n",
      "RangeIndex: 7043 entries, 0 to 7042\n",
      "Data columns (total 29 columns):\n",
      "CustomerID             7043 non-null object\n",
      "Gender                 7043 non-null object\n",
      "SeniorCitizen          7043 non-null int64\n",
      "Partner                7043 non-null object\n",
      "Dependents             7043 non-null object\n",
      "Tenure                 7043 non-null int64\n",
      "PhoneService           7043 non-null object\n",
      "MultipleLines          7043 non-null object\n",
      "InternetService        7043 non-null object\n",
      "OnlineSecurity         7043 non-null object\n",
      "OnlineBackup           7043 non-null object\n",
      "DeviceProtection       7043 non-null object\n",
      "TechSupport            7043 non-null object\n",
      "StreamingTV            7043 non-null object\n",
      "StreamingMovies        7043 non-null object\n",
      "Contract               7043 non-null object\n",
      "PaperlessBilling       7043 non-null object\n",
      "PaymentMethod          7043 non-null object\n",
      "MonthlyCharges         7043 non-null float64\n",
      "TotalCharges           7043 non-null float64\n",
      "Churn                  7043 non-null object\n",
      "Churn_Num              7043 non-null int32\n",
      "TenureRange            7043 non-null category\n",
      "TenureCat              7043 non-null float64\n",
      "MonthlyChargesRange    7043 non-null category\n",
      "MonthlyChargesCat      7043 non-null float64\n",
      "Family                 7043 non-null object\n",
      "OnlineServices         7043 non-null object\n",
      "StreamingServices      7043 non-null object\n",
      "dtypes: category(2), float64(4), int32(1), int64(2), object(20)\n",
      "memory usage: 1.4+ MB\n"
     ]
    }
   ],
   "source": [
    "dataset_churn.info()"
   ]
  },
  {
   "cell_type": "code",
   "execution_count": 40,
   "metadata": {},
   "outputs": [
    {
     "data": {
      "text/html": [
       "<div>\n",
       "<style scoped>\n",
       "    .dataframe tbody tr th:only-of-type {\n",
       "        vertical-align: middle;\n",
       "    }\n",
       "\n",
       "    .dataframe tbody tr th {\n",
       "        vertical-align: top;\n",
       "    }\n",
       "\n",
       "    .dataframe thead th {\n",
       "        text-align: right;\n",
       "    }\n",
       "</style>\n",
       "<table border=\"1\" class=\"dataframe\">\n",
       "  <thead>\n",
       "    <tr style=\"text-align: right;\">\n",
       "      <th></th>\n",
       "      <th>Gender</th>\n",
       "      <th>Gender_Num</th>\n",
       "    </tr>\n",
       "  </thead>\n",
       "  <tbody>\n",
       "    <tr>\n",
       "      <th>0</th>\n",
       "      <td>Female</td>\n",
       "      <td>1</td>\n",
       "    </tr>\n",
       "    <tr>\n",
       "      <th>1</th>\n",
       "      <td>Male</td>\n",
       "      <td>0</td>\n",
       "    </tr>\n",
       "  </tbody>\n",
       "</table>\n",
       "</div>"
      ],
      "text/plain": [
       "   Gender  Gender_Num\n",
       "0  Female           1\n",
       "1    Male           0"
      ]
     },
     "execution_count": 40,
     "metadata": {},
     "output_type": "execute_result"
    }
   ],
   "source": [
    "#Converting Gender column to numeric value\n",
    "#datset_churn['Gender'].unique() # Print unique values in the column\n",
    "dataset_churn['Gender_Num'] = dataset_churn['Gender'].map( {'Female': 1, 'Male': 0} ).astype(int) #Map Categorical to Numerical Values\n",
    "dataset_churn[['Gender','Gender_Num']].head(2) # Test the mapping"
   ]
  },
  {
   "cell_type": "code",
   "execution_count": 41,
   "metadata": {},
   "outputs": [
    {
     "data": {
      "text/html": [
       "<div>\n",
       "<style scoped>\n",
       "    .dataframe tbody tr th:only-of-type {\n",
       "        vertical-align: middle;\n",
       "    }\n",
       "\n",
       "    .dataframe tbody tr th {\n",
       "        vertical-align: top;\n",
       "    }\n",
       "\n",
       "    .dataframe thead th {\n",
       "        text-align: right;\n",
       "    }\n",
       "</style>\n",
       "<table border=\"1\" class=\"dataframe\">\n",
       "  <thead>\n",
       "    <tr style=\"text-align: right;\">\n",
       "      <th></th>\n",
       "      <th>Family</th>\n",
       "      <th>Family_Num</th>\n",
       "    </tr>\n",
       "  </thead>\n",
       "  <tbody>\n",
       "    <tr>\n",
       "      <th>0</th>\n",
       "      <td>Yes</td>\n",
       "      <td>1</td>\n",
       "    </tr>\n",
       "    <tr>\n",
       "      <th>1</th>\n",
       "      <td>No</td>\n",
       "      <td>0</td>\n",
       "    </tr>\n",
       "  </tbody>\n",
       "</table>\n",
       "</div>"
      ],
      "text/plain": [
       "  Family  Family_Num\n",
       "0    Yes           1\n",
       "1     No           0"
      ]
     },
     "execution_count": 41,
     "metadata": {},
     "output_type": "execute_result"
    }
   ],
   "source": [
    "# For Partner & Dependant , we created Family Column . Converting Family column to numeric value\n",
    "#datset_churn['Family'].unique() # Print unique values in the column\n",
    "dataset_churn['Family_Num'] = dataset_churn['Family'].map( {'Yes': 1, 'No': 0} ).astype(int) #Map Categorical to Numerical Values\n",
    "dataset_churn[['Family','Family_Num']].head(2) # Test the mapping"
   ]
  },
  {
   "cell_type": "code",
   "execution_count": 42,
   "metadata": {},
   "outputs": [],
   "source": [
    "dataset_churn['PhoneService_Num'] = dataset_churn['PhoneService'].map( {'Yes': 1, 'No': 0} ).astype(int)\n",
    "dataset_churn['MultipleLines_Num'] = dataset_churn['MultipleLines'].map( {'No': 0, 'Yes': 1, 'No phone service':2} ).astype(int)\n",
    "dataset_churn['InternetService_Num'] = dataset_churn['InternetService'].map( {'DSL': 0, 'Fiber optic': 1, 'No':2} ).astype(int)\n",
    "dataset_churn['OnlineServices_Num'] = dataset_churn['OnlineServices'].map( {'Yes': 1, 'No': 0} ).astype(int)\n",
    "\n",
    "dataset_churn['DeviceProtection_Num'] = dataset_churn['DeviceProtection'].map( {'No': 0, 'Yes': 1, 'No internet service':2} ).astype(int)\n",
    "dataset_churn['StreamingServices_Num'] = dataset_churn['StreamingServices'].map( {'Yes': 1, 'No': 0} ).astype(int)\n",
    "dataset_churn['TechSupport_Num'] = dataset_churn['TechSupport'].map( {'No': 0, 'Yes': 1, 'No internet service':2} ).astype(int)\n",
    "dataset_churn['Contract_Num'] = dataset_churn['Contract'].map( {'Month-to-month': 0, 'One year': 1, 'Two year': 2} ).astype(int)\n",
    "dataset_churn['PaperlessBilling_Num'] = dataset_churn['PaperlessBilling'].map( {'Yes': 1, 'No': 0} ).astype(int)\n",
    "dataset_churn['PaymentMethod_Num'] = dataset_churn['PaymentMethod'].map( {'Electronic check': 0, 'Mailed check': 1, 'Bank transfer (automatic)': 2 , 'Credit card (automatic)' : 3} ).astype(int)"
   ]
  },
  {
   "cell_type": "code",
   "execution_count": 43,
   "metadata": {},
   "outputs": [
    {
     "name": "stdout",
     "output_type": "stream",
     "text": [
      "<class 'pandas.core.frame.DataFrame'>\n",
      "RangeIndex: 7043 entries, 0 to 7042\n",
      "Data columns (total 41 columns):\n",
      "CustomerID               7043 non-null object\n",
      "Gender                   7043 non-null object\n",
      "SeniorCitizen            7043 non-null int64\n",
      "Partner                  7043 non-null object\n",
      "Dependents               7043 non-null object\n",
      "Tenure                   7043 non-null int64\n",
      "PhoneService             7043 non-null object\n",
      "MultipleLines            7043 non-null object\n",
      "InternetService          7043 non-null object\n",
      "OnlineSecurity           7043 non-null object\n",
      "OnlineBackup             7043 non-null object\n",
      "DeviceProtection         7043 non-null object\n",
      "TechSupport              7043 non-null object\n",
      "StreamingTV              7043 non-null object\n",
      "StreamingMovies          7043 non-null object\n",
      "Contract                 7043 non-null object\n",
      "PaperlessBilling         7043 non-null object\n",
      "PaymentMethod            7043 non-null object\n",
      "MonthlyCharges           7043 non-null float64\n",
      "TotalCharges             7043 non-null float64\n",
      "Churn                    7043 non-null object\n",
      "Churn_Num                7043 non-null int32\n",
      "TenureRange              7043 non-null category\n",
      "TenureCat                7043 non-null float64\n",
      "MonthlyChargesRange      7043 non-null category\n",
      "MonthlyChargesCat        7043 non-null float64\n",
      "Family                   7043 non-null object\n",
      "OnlineServices           7043 non-null object\n",
      "StreamingServices        7043 non-null object\n",
      "Gender_Num               7043 non-null int32\n",
      "Family_Num               7043 non-null int32\n",
      "PhoneService_Num         7043 non-null int32\n",
      "MultipleLines_Num        7043 non-null int32\n",
      "InternetService_Num      7043 non-null int32\n",
      "OnlineServices_Num       7043 non-null int32\n",
      "DeviceProtection_Num     7043 non-null int32\n",
      "StreamingServices_Num    7043 non-null int32\n",
      "TechSupport_Num          7043 non-null int32\n",
      "Contract_Num             7043 non-null int32\n",
      "PaperlessBilling_Num     7043 non-null int32\n",
      "PaymentMethod_Num        7043 non-null int32\n",
      "dtypes: category(2), float64(4), int32(13), int64(2), object(20)\n",
      "memory usage: 1.8+ MB\n"
     ]
    }
   ],
   "source": [
    "dataset_churn.info()"
   ]
  },
  {
   "cell_type": "markdown",
   "metadata": {},
   "source": [
    "## Now we will delete the non-required rows and prepare the dataset for classification"
   ]
  },
  {
   "cell_type": "code",
   "execution_count": 44,
   "metadata": {},
   "outputs": [],
   "source": [
    "# Take a copy of dataset\n",
    "dataset_churn_copy = dataset_churn.copy()"
   ]
  },
  {
   "cell_type": "code",
   "execution_count": 45,
   "metadata": {},
   "outputs": [],
   "source": [
    "#Dropping the Categorical columns and keeping their equivalent numeric column\n",
    "columns_to_drop = ['Gender', 'Partner', 'Dependents', 'Tenure', 'PhoneService', 'MultipleLines', 'InternetService', 'OnlineSecurity', 'OnlineBackup', 'DeviceProtection', 'TechSupport', 'StreamingTV', 'StreamingMovies', 'Contract', 'PaperlessBilling', 'PaymentMethod', 'TotalCharges', 'Churn', 'Family', 'OnlineServices', 'StreamingServices']\n",
    "dataset_churn = dataset_churn.drop(columns_to_drop, axis=1)\n",
    "\n",
    "#Re-arranging the columns as per origial dataset\n",
    "dataset_churn = dataset_churn[['CustomerID', 'Gender_Num', 'SeniorCitizen', 'Family_Num', 'TenureCat', 'PhoneService_Num', 'MultipleLines_Num', 'InternetService_Num', 'OnlineServices_Num', 'DeviceProtection_Num', 'TechSupport_Num', 'StreamingServices_Num', 'Contract_Num', 'PaperlessBilling_Num', 'PaymentMethod_Num', 'MonthlyChargesCat', 'Churn_Num']]\n",
    "dataset_churn = dataset_churn.rename(columns={'Gender_Num' : 'Gender', \n",
    "                             'Family_Num' : 'Family',\n",
    "                             'PhoneService_Num' : 'PhoneService',\n",
    "                             'MultipleLines_Num': 'MultipleLines', \n",
    "                             'InternetService_Num' : 'InternetService', \n",
    "                             'OnlineServices_Num' : 'OnlineServices', \n",
    "                             'DeviceProtection_Num' : 'DeviceProtection',\n",
    "                             'TechSupport_Num' : 'TechSupport', \n",
    "                             'StreamingServices_Num' : 'StreamingServices', \n",
    "                             'Contract_Num' : 'Contract', \n",
    "                             'PaperlessBilling_Num' : 'PaperlessBilling', \n",
    "                             'PaymentMethod_Num' : 'PaymentMethod', \n",
    "                             'MonthlyCharges' : 'MonthlyCharges', \n",
    "                             'Churn_Num' :  'Churn' })"
   ]
  },
  {
   "cell_type": "code",
   "execution_count": 46,
   "metadata": {},
   "outputs": [
    {
     "name": "stdout",
     "output_type": "stream",
     "text": [
      "<class 'pandas.core.frame.DataFrame'>\n",
      "RangeIndex: 7043 entries, 0 to 7042\n",
      "Data columns (total 17 columns):\n",
      "CustomerID           7043 non-null object\n",
      "Gender               7043 non-null int32\n",
      "SeniorCitizen        7043 non-null int64\n",
      "Family               7043 non-null int32\n",
      "TenureCat            7043 non-null float64\n",
      "PhoneService         7043 non-null int32\n",
      "MultipleLines        7043 non-null int32\n",
      "InternetService      7043 non-null int32\n",
      "OnlineServices       7043 non-null int32\n",
      "DeviceProtection     7043 non-null int32\n",
      "TechSupport          7043 non-null int32\n",
      "StreamingServices    7043 non-null int32\n",
      "Contract             7043 non-null int32\n",
      "PaperlessBilling     7043 non-null int32\n",
      "PaymentMethod        7043 non-null int32\n",
      "MonthlyChargesCat    7043 non-null float64\n",
      "Churn                7043 non-null int32\n",
      "dtypes: float64(2), int32(13), int64(1), object(1)\n",
      "memory usage: 577.8+ KB\n"
     ]
    }
   ],
   "source": [
    "dataset_churn.info()"
   ]
  },
  {
   "cell_type": "code",
   "execution_count": 47,
   "metadata": {},
   "outputs": [
    {
     "data": {
      "text/html": [
       "<div>\n",
       "<style scoped>\n",
       "    .dataframe tbody tr th:only-of-type {\n",
       "        vertical-align: middle;\n",
       "    }\n",
       "\n",
       "    .dataframe tbody tr th {\n",
       "        vertical-align: top;\n",
       "    }\n",
       "\n",
       "    .dataframe thead th {\n",
       "        text-align: right;\n",
       "    }\n",
       "</style>\n",
       "<table border=\"1\" class=\"dataframe\">\n",
       "  <thead>\n",
       "    <tr style=\"text-align: right;\">\n",
       "      <th></th>\n",
       "      <th>CustomerID</th>\n",
       "      <th>Gender</th>\n",
       "      <th>SeniorCitizen</th>\n",
       "      <th>Family</th>\n",
       "      <th>TenureCat</th>\n",
       "      <th>PhoneService</th>\n",
       "      <th>MultipleLines</th>\n",
       "      <th>InternetService</th>\n",
       "      <th>OnlineServices</th>\n",
       "      <th>DeviceProtection</th>\n",
       "      <th>TechSupport</th>\n",
       "      <th>StreamingServices</th>\n",
       "      <th>Contract</th>\n",
       "      <th>PaperlessBilling</th>\n",
       "      <th>PaymentMethod</th>\n",
       "      <th>MonthlyChargesCat</th>\n",
       "      <th>Churn</th>\n",
       "    </tr>\n",
       "  </thead>\n",
       "  <tbody>\n",
       "    <tr>\n",
       "      <th>0</th>\n",
       "      <td>7590-VHVEG</td>\n",
       "      <td>1</td>\n",
       "      <td>0</td>\n",
       "      <td>1</td>\n",
       "      <td>0.0</td>\n",
       "      <td>0</td>\n",
       "      <td>2</td>\n",
       "      <td>0</td>\n",
       "      <td>1</td>\n",
       "      <td>0</td>\n",
       "      <td>0</td>\n",
       "      <td>0</td>\n",
       "      <td>0</td>\n",
       "      <td>1</td>\n",
       "      <td>0</td>\n",
       "      <td>1.0</td>\n",
       "      <td>0</td>\n",
       "    </tr>\n",
       "    <tr>\n",
       "      <th>1</th>\n",
       "      <td>5575-GNVDE</td>\n",
       "      <td>0</td>\n",
       "      <td>0</td>\n",
       "      <td>0</td>\n",
       "      <td>3.0</td>\n",
       "      <td>1</td>\n",
       "      <td>0</td>\n",
       "      <td>0</td>\n",
       "      <td>1</td>\n",
       "      <td>1</td>\n",
       "      <td>0</td>\n",
       "      <td>0</td>\n",
       "      <td>1</td>\n",
       "      <td>0</td>\n",
       "      <td>1</td>\n",
       "      <td>2.0</td>\n",
       "      <td>0</td>\n",
       "    </tr>\n",
       "    <tr>\n",
       "      <th>2</th>\n",
       "      <td>3668-QPYBK</td>\n",
       "      <td>0</td>\n",
       "      <td>0</td>\n",
       "      <td>0</td>\n",
       "      <td>0.0</td>\n",
       "      <td>1</td>\n",
       "      <td>0</td>\n",
       "      <td>0</td>\n",
       "      <td>1</td>\n",
       "      <td>0</td>\n",
       "      <td>0</td>\n",
       "      <td>0</td>\n",
       "      <td>0</td>\n",
       "      <td>1</td>\n",
       "      <td>1</td>\n",
       "      <td>2.0</td>\n",
       "      <td>1</td>\n",
       "    </tr>\n",
       "    <tr>\n",
       "      <th>3</th>\n",
       "      <td>7795-CFOCW</td>\n",
       "      <td>0</td>\n",
       "      <td>0</td>\n",
       "      <td>0</td>\n",
       "      <td>3.0</td>\n",
       "      <td>0</td>\n",
       "      <td>2</td>\n",
       "      <td>0</td>\n",
       "      <td>1</td>\n",
       "      <td>1</td>\n",
       "      <td>1</td>\n",
       "      <td>0</td>\n",
       "      <td>1</td>\n",
       "      <td>0</td>\n",
       "      <td>2</td>\n",
       "      <td>2.0</td>\n",
       "      <td>0</td>\n",
       "    </tr>\n",
       "    <tr>\n",
       "      <th>4</th>\n",
       "      <td>9237-HQITU</td>\n",
       "      <td>1</td>\n",
       "      <td>0</td>\n",
       "      <td>0</td>\n",
       "      <td>0.0</td>\n",
       "      <td>1</td>\n",
       "      <td>0</td>\n",
       "      <td>1</td>\n",
       "      <td>0</td>\n",
       "      <td>0</td>\n",
       "      <td>0</td>\n",
       "      <td>0</td>\n",
       "      <td>0</td>\n",
       "      <td>1</td>\n",
       "      <td>0</td>\n",
       "      <td>3.0</td>\n",
       "      <td>1</td>\n",
       "    </tr>\n",
       "    <tr>\n",
       "      <th>5</th>\n",
       "      <td>9305-CDSKC</td>\n",
       "      <td>1</td>\n",
       "      <td>0</td>\n",
       "      <td>0</td>\n",
       "      <td>0.0</td>\n",
       "      <td>1</td>\n",
       "      <td>1</td>\n",
       "      <td>1</td>\n",
       "      <td>0</td>\n",
       "      <td>1</td>\n",
       "      <td>0</td>\n",
       "      <td>1</td>\n",
       "      <td>0</td>\n",
       "      <td>1</td>\n",
       "      <td>0</td>\n",
       "      <td>4.0</td>\n",
       "      <td>1</td>\n",
       "    </tr>\n",
       "    <tr>\n",
       "      <th>6</th>\n",
       "      <td>1452-KIOVK</td>\n",
       "      <td>0</td>\n",
       "      <td>0</td>\n",
       "      <td>1</td>\n",
       "      <td>2.0</td>\n",
       "      <td>1</td>\n",
       "      <td>1</td>\n",
       "      <td>1</td>\n",
       "      <td>1</td>\n",
       "      <td>0</td>\n",
       "      <td>0</td>\n",
       "      <td>1</td>\n",
       "      <td>0</td>\n",
       "      <td>1</td>\n",
       "      <td>3</td>\n",
       "      <td>4.0</td>\n",
       "      <td>0</td>\n",
       "    </tr>\n",
       "    <tr>\n",
       "      <th>7</th>\n",
       "      <td>6713-OKOMC</td>\n",
       "      <td>1</td>\n",
       "      <td>0</td>\n",
       "      <td>0</td>\n",
       "      <td>1.0</td>\n",
       "      <td>0</td>\n",
       "      <td>2</td>\n",
       "      <td>0</td>\n",
       "      <td>1</td>\n",
       "      <td>0</td>\n",
       "      <td>0</td>\n",
       "      <td>0</td>\n",
       "      <td>0</td>\n",
       "      <td>0</td>\n",
       "      <td>1</td>\n",
       "      <td>1.0</td>\n",
       "      <td>0</td>\n",
       "    </tr>\n",
       "    <tr>\n",
       "      <th>8</th>\n",
       "      <td>7892-POOKP</td>\n",
       "      <td>1</td>\n",
       "      <td>0</td>\n",
       "      <td>1</td>\n",
       "      <td>2.0</td>\n",
       "      <td>1</td>\n",
       "      <td>1</td>\n",
       "      <td>1</td>\n",
       "      <td>0</td>\n",
       "      <td>1</td>\n",
       "      <td>1</td>\n",
       "      <td>1</td>\n",
       "      <td>0</td>\n",
       "      <td>1</td>\n",
       "      <td>0</td>\n",
       "      <td>5.0</td>\n",
       "      <td>1</td>\n",
       "    </tr>\n",
       "    <tr>\n",
       "      <th>9</th>\n",
       "      <td>6388-TABGU</td>\n",
       "      <td>0</td>\n",
       "      <td>0</td>\n",
       "      <td>1</td>\n",
       "      <td>5.0</td>\n",
       "      <td>1</td>\n",
       "      <td>0</td>\n",
       "      <td>0</td>\n",
       "      <td>1</td>\n",
       "      <td>0</td>\n",
       "      <td>0</td>\n",
       "      <td>0</td>\n",
       "      <td>1</td>\n",
       "      <td>0</td>\n",
       "      <td>2</td>\n",
       "      <td>2.0</td>\n",
       "      <td>0</td>\n",
       "    </tr>\n",
       "  </tbody>\n",
       "</table>\n",
       "</div>"
      ],
      "text/plain": [
       "   CustomerID  Gender  SeniorCitizen  Family  TenureCat  PhoneService  \\\n",
       "0  7590-VHVEG       1              0       1        0.0             0   \n",
       "1  5575-GNVDE       0              0       0        3.0             1   \n",
       "2  3668-QPYBK       0              0       0        0.0             1   \n",
       "3  7795-CFOCW       0              0       0        3.0             0   \n",
       "4  9237-HQITU       1              0       0        0.0             1   \n",
       "5  9305-CDSKC       1              0       0        0.0             1   \n",
       "6  1452-KIOVK       0              0       1        2.0             1   \n",
       "7  6713-OKOMC       1              0       0        1.0             0   \n",
       "8  7892-POOKP       1              0       1        2.0             1   \n",
       "9  6388-TABGU       0              0       1        5.0             1   \n",
       "\n",
       "   MultipleLines  InternetService  OnlineServices  DeviceProtection  \\\n",
       "0              2                0               1                 0   \n",
       "1              0                0               1                 1   \n",
       "2              0                0               1                 0   \n",
       "3              2                0               1                 1   \n",
       "4              0                1               0                 0   \n",
       "5              1                1               0                 1   \n",
       "6              1                1               1                 0   \n",
       "7              2                0               1                 0   \n",
       "8              1                1               0                 1   \n",
       "9              0                0               1                 0   \n",
       "\n",
       "   TechSupport  StreamingServices  Contract  PaperlessBilling  PaymentMethod  \\\n",
       "0            0                  0         0                 1              0   \n",
       "1            0                  0         1                 0              1   \n",
       "2            0                  0         0                 1              1   \n",
       "3            1                  0         1                 0              2   \n",
       "4            0                  0         0                 1              0   \n",
       "5            0                  1         0                 1              0   \n",
       "6            0                  1         0                 1              3   \n",
       "7            0                  0         0                 0              1   \n",
       "8            1                  1         0                 1              0   \n",
       "9            0                  0         1                 0              2   \n",
       "\n",
       "   MonthlyChargesCat  Churn  \n",
       "0                1.0      0  \n",
       "1                2.0      0  \n",
       "2                2.0      1  \n",
       "3                2.0      0  \n",
       "4                3.0      1  \n",
       "5                4.0      1  \n",
       "6                4.0      0  \n",
       "7                1.0      0  \n",
       "8                5.0      1  \n",
       "9                2.0      0  "
      ]
     },
     "execution_count": 47,
     "metadata": {},
     "output_type": "execute_result"
    }
   ],
   "source": [
    "dataset_churn.head(10) # Taking a quick look into the new data"
   ]
  },
  {
   "cell_type": "code",
   "execution_count": 48,
   "metadata": {},
   "outputs": [],
   "source": [
    "test = dataset_churn"
   ]
  },
  {
   "cell_type": "code",
   "execution_count": 49,
   "metadata": {},
   "outputs": [
    {
     "name": "stdout",
     "output_type": "stream",
     "text": [
      "There are 4930 samples in the training set and 2113 samples in the test set\n"
     ]
    }
   ],
   "source": [
    "X = dataset_churn.iloc[:,1:16].values # Feature Variable\n",
    "y = dataset_churn.iloc[:,16].values # Target Variable\n",
    "\n",
    "#Dividing data into test & train splitting 70% data for training anf 30% for test\n",
    "X_train, X_test, y_train, y_test = train_test_split(X, y, test_size=0.30)\n",
    "print('There are {} samples in the training set and {} samples in the test set'.format(X_train.shape[0], X_test.shape[0]))"
   ]
  },
  {
   "cell_type": "code",
   "execution_count": 51,
   "metadata": {},
   "outputs": [],
   "source": [
    "data_final = dataset_churn.iloc[:,1:17]"
   ]
  },
  {
   "cell_type": "code",
   "execution_count": 53,
   "metadata": {},
   "outputs": [
    {
     "data": {
      "text/plain": [
       "array([1., 0., 1., 0., 0., 2., 0., 1., 0., 0., 0., 0., 1., 0., 1.])"
      ]
     },
     "execution_count": 53,
     "metadata": {},
     "output_type": "execute_result"
    }
   ],
   "source": [
    "X[0]"
   ]
  },
  {
   "cell_type": "code",
   "execution_count": 54,
   "metadata": {},
   "outputs": [],
   "source": [
    "data_final_vars=data_final.columns.values.tolist()\n",
    "y=['Churn']\n",
    "X=[i for i in data_final_vars if i not in y]"
   ]
  },
  {
   "cell_type": "markdown",
   "metadata": {},
   "source": [
    "# Feature Selection\n",
    "Feature ranking with recursive feature elimination.\n",
    "\n",
    "Given an external estimator that assigns weights to features (e.g., the coefficients of a linear model), the goal of recursive feature elimination (RFE) is to select features by recursively considering smaller and smaller sets of features. First, the estimator is trained on the initial set of features and the importance of each feature is obtained either through a coef_ attribute or through a feature_importances_ attribute. Then, the least important features are pruned from current set of features. That procedure is recursively repeated on the pruned set until the desired number of features to select is eventually reached."
   ]
  },
  {
   "cell_type": "code",
   "execution_count": 52,
   "metadata": {},
   "outputs": [],
   "source": [
    "from sklearn import datasets\n",
    "from sklearn.feature_selection import RFE\n",
    "from sklearn.linear_model import LogisticRegression\n",
    "\n",
    "logreg = LogisticRegression()\n",
    "\n",
    "rfe = RFE(logreg, 16)\n",
    "rfe = rfe.fit(data_final[X], data_final[y] )"
   ]
  },
  {
   "cell_type": "code",
   "execution_count": 52,
   "metadata": {},
   "outputs": [
    {
     "name": "stdout",
     "output_type": "stream",
     "text": [
      "[ True  True  True  True  True  True  True  True  True  True  True  True\n",
      "  True  True  True]\n",
      "[1 1 1 1 1 1 1 1 1 1 1 1 1 1 1]\n"
     ]
    }
   ],
   "source": [
    "print(rfe.support_)\n",
    "print(rfe.ranking_)"
   ]
  },
  {
   "cell_type": "markdown",
   "metadata": {},
   "source": [
    "# Implementing the model\n"
   ]
  },
  {
   "cell_type": "code",
   "execution_count": 53,
   "metadata": {},
   "outputs": [
    {
     "name": "stdout",
     "output_type": "stream",
     "text": [
      "Optimization terminated successfully.\n",
      "         Current function value: 0.418812\n",
      "         Iterations 7\n",
      "                           Logit Regression Results                           \n",
      "==============================================================================\n",
      "Dep. Variable:                  Churn   No. Observations:                 7043\n",
      "Model:                          Logit   Df Residuals:                     7028\n",
      "Method:                           MLE   Df Model:                           14\n",
      "Date:                Thu, 29 Nov 2018   Pseudo R-squ.:                  0.2762\n",
      "Time:                        22:06:37   Log-Likelihood:                -2949.7\n",
      "converged:                       True   LL-Null:                       -4075.1\n",
      "                                        LLR p-value:                     0.000\n",
      "=====================================================================================\n",
      "                        coef    std err          z      P>|z|      [0.025      0.975]\n",
      "-------------------------------------------------------------------------------------\n",
      "Gender               -0.0222      0.064     -0.349      0.727      -0.147       0.103\n",
      "SeniorCitizen         0.2490      0.083      3.006      0.003       0.087       0.411\n",
      "Family               -0.1152      0.068     -1.704      0.088      -0.248       0.017\n",
      "TenureCat            -0.3816      0.027    -13.942      0.000      -0.435      -0.328\n",
      "PhoneService         -0.9452      0.132     -7.167      0.000      -1.204      -0.687\n",
      "MultipleLines         0.0172      0.056      0.309      0.757      -0.092       0.126\n",
      "InternetService       0.5743      0.076      7.568      0.000       0.426       0.723\n",
      "OnlineServices       -0.4384      0.071     -6.166      0.000      -0.578      -0.299\n",
      "DeviceProtection     -0.1129      0.072     -1.566      0.117      -0.254       0.028\n",
      "TechSupport          -0.5154      0.076     -6.747      0.000      -0.665      -0.366\n",
      "StreamingServices     0.0517      0.082      0.626      0.531      -0.110       0.213\n",
      "Contract             -0.7381      0.074     -9.939      0.000      -0.884      -0.593\n",
      "PaperlessBilling      0.3375      0.072      4.677      0.000       0.196       0.479\n",
      "PaymentMethod        -0.1614      0.030     -5.422      0.000      -0.220      -0.103\n",
      "MonthlyChargesCat     0.3460      0.040      8.593      0.000       0.267       0.425\n",
      "=====================================================================================\n"
     ]
    }
   ],
   "source": [
    "import statsmodels.api as sm\n",
    "logit_model=sm.Logit(data_final[y],data_final[X])\n",
    "result=logit_model.fit()\n",
    "print(result.summary())"
   ]
  },
  {
   "cell_type": "code",
   "execution_count": 54,
   "metadata": {},
   "outputs": [],
   "source": [
    "X = ['Gender','SeniorCitizen','Family','TenureCat','PhoneService','InternetService','OnlineServices','DeviceProtection',\n",
    " 'TechSupport','StreamingServices','Contract','PaperlessBilling','PaymentMethod','MonthlyChargesCat']\n"
   ]
  },
  {
   "cell_type": "code",
   "execution_count": 55,
   "metadata": {},
   "outputs": [
    {
     "name": "stdout",
     "output_type": "stream",
     "text": [
      "Optimization terminated successfully.\n",
      "         Current function value: 0.418819\n",
      "         Iterations 7\n",
      "                           Logit Regression Results                           \n",
      "==============================================================================\n",
      "Dep. Variable:                  Churn   No. Observations:                 7043\n",
      "Model:                          Logit   Df Residuals:                     7029\n",
      "Method:                           MLE   Df Model:                           13\n",
      "Date:                Thu, 29 Nov 2018   Pseudo R-squ.:                  0.2761\n",
      "Time:                        22:06:44   Log-Likelihood:                -2949.7\n",
      "converged:                       True   LL-Null:                       -4075.1\n",
      "                                        LLR p-value:                     0.000\n",
      "=====================================================================================\n",
      "                        coef    std err          z      P>|z|      [0.025      0.975]\n",
      "-------------------------------------------------------------------------------------\n",
      "Gender               -0.0188      0.063     -0.300      0.764      -0.142       0.104\n",
      "SeniorCitizen         0.2515      0.082      3.051      0.002       0.090       0.413\n",
      "Family               -0.1128      0.067     -1.679      0.093      -0.244       0.019\n",
      "TenureCat            -0.3807      0.027    -13.982      0.000      -0.434      -0.327\n",
      "PhoneService         -0.9628      0.119     -8.096      0.000      -1.196      -0.730\n",
      "InternetService       0.5727      0.076      7.566      0.000       0.424       0.721\n",
      "OnlineServices       -0.4361      0.071     -6.167      0.000      -0.575      -0.298\n",
      "DeviceProtection     -0.1112      0.072     -1.546      0.122      -0.252       0.030\n",
      "TechSupport          -0.5125      0.076     -6.760      0.000      -0.661      -0.364\n",
      "StreamingServices     0.0520      0.082      0.631      0.528      -0.110       0.214\n",
      "Contract             -0.7398      0.074     -9.986      0.000      -0.885      -0.595\n",
      "PaperlessBilling      0.3429      0.070      4.893      0.000       0.206       0.480\n",
      "PaymentMethod        -0.1601      0.029     -5.434      0.000      -0.218      -0.102\n",
      "MonthlyChargesCat     0.3503      0.038      9.295      0.000       0.276       0.424\n",
      "=====================================================================================\n"
     ]
    }
   ],
   "source": [
    "logit_model=sm.Logit(data_final[y],data_final[X])\n",
    "result=logit_model.fit()\n",
    "print(result.summary())"
   ]
  },
  {
   "cell_type": "markdown",
   "metadata": {},
   "source": [
    "# Logistic Regression Classifier"
   ]
  },
  {
   "cell_type": "code",
   "execution_count": 55,
   "metadata": {},
   "outputs": [
    {
     "name": "stdout",
     "output_type": "stream",
     "text": [
      "[0. 0. 1. 5. 1. 0. 1. 1. 1. 0. 1. 1. 1. 2. 5.]\n"
     ]
    }
   ],
   "source": [
    "print(X_train[0])"
   ]
  },
  {
   "cell_type": "code",
   "execution_count": 54,
   "metadata": {},
   "outputs": [
    {
     "name": "stdout",
     "output_type": "stream",
     "text": [
      "[0 1 0 ... 1 0 0]\n"
     ]
    }
   ],
   "source": [
    "print(y_train)"
   ]
  },
  {
   "cell_type": "code",
   "execution_count": 56,
   "metadata": {},
   "outputs": [
    {
     "data": {
      "text/plain": [
       "LogisticRegression(C=1.0, class_weight=None, dual=False, fit_intercept=True,\n",
       "          intercept_scaling=1, max_iter=100, multi_class='ovr', n_jobs=1,\n",
       "          penalty='l2', random_state=None, solver='liblinear', tol=0.0001,\n",
       "          verbose=0, warm_start=False)"
      ]
     },
     "execution_count": 56,
     "metadata": {},
     "output_type": "execute_result"
    }
   ],
   "source": [
    "from sklearn.linear_model import LogisticRegression\n",
    "from sklearn import metrics\n",
    "logreg = LogisticRegression()\n",
    "logreg.fit(X_train, y_train)"
   ]
  },
  {
   "cell_type": "code",
   "execution_count": 57,
   "metadata": {},
   "outputs": [],
   "source": [
    "# Calculate the accuracy\n",
    "y_pred = logreg.predict(X_test)"
   ]
  },
  {
   "cell_type": "code",
   "execution_count": 60,
   "metadata": {},
   "outputs": [
    {
     "data": {
      "text/plain": [
       "array([0., 0., 0., 1., 1., 0., 2., 1., 2., 2., 1., 1., 0., 1., 0.])"
      ]
     },
     "execution_count": 60,
     "metadata": {},
     "output_type": "execute_result"
    }
   ],
   "source": [
    "y_pred[0]\n",
    "X_test[0]"
   ]
  },
  {
   "cell_type": "code",
   "execution_count": 62,
   "metadata": {},
   "outputs": [],
   "source": [
    "testval = logreg.predict_proba(X_test)[:,1]"
   ]
  },
  {
   "cell_type": "code",
   "execution_count": 63,
   "metadata": {},
   "outputs": [
    {
     "data": {
      "text/plain": [
       "array([0.0593042 , 0.21904011, 0.31828184, ..., 0.02817452, 0.05761184,\n",
       "       0.00864075])"
      ]
     },
     "execution_count": 63,
     "metadata": {},
     "output_type": "execute_result"
    }
   ],
   "source": [
    "testval\n"
   ]
  },
  {
   "cell_type": "code",
   "execution_count": 64,
   "metadata": {},
   "outputs": [],
   "source": [
    "score = pd.DataFrame(logreg.predict_proba(X_test)[:,1], columns = ['SCORE'])\n",
    "score['DECILE'] = pd.qcut(score['SCORE'].rank(method = 'first'),10,labels=range(10,0,-1))\n",
    "score['DECILE'] = score['DECILE'].astype(float)\n"
   ]
  },
  {
   "cell_type": "code",
   "execution_count": 66,
   "metadata": {},
   "outputs": [
    {
     "data": {
      "text/html": [
       "<div>\n",
       "<style scoped>\n",
       "    .dataframe tbody tr th:only-of-type {\n",
       "        vertical-align: middle;\n",
       "    }\n",
       "\n",
       "    .dataframe tbody tr th {\n",
       "        vertical-align: top;\n",
       "    }\n",
       "\n",
       "    .dataframe thead th {\n",
       "        text-align: right;\n",
       "    }\n",
       "</style>\n",
       "<table border=\"1\" class=\"dataframe\">\n",
       "  <thead>\n",
       "    <tr style=\"text-align: right;\">\n",
       "      <th></th>\n",
       "      <th>SCORE</th>\n",
       "      <th>DECILE</th>\n",
       "    </tr>\n",
       "  </thead>\n",
       "  <tbody>\n",
       "    <tr>\n",
       "      <th>0</th>\n",
       "      <td>0.059304</td>\n",
       "      <td>8.0</td>\n",
       "    </tr>\n",
       "    <tr>\n",
       "      <th>1</th>\n",
       "      <td>0.219040</td>\n",
       "      <td>5.0</td>\n",
       "    </tr>\n",
       "    <tr>\n",
       "      <th>2</th>\n",
       "      <td>0.318282</td>\n",
       "      <td>4.0</td>\n",
       "    </tr>\n",
       "    <tr>\n",
       "      <th>3</th>\n",
       "      <td>0.702969</td>\n",
       "      <td>1.0</td>\n",
       "    </tr>\n",
       "    <tr>\n",
       "      <th>4</th>\n",
       "      <td>0.231825</td>\n",
       "      <td>5.0</td>\n",
       "    </tr>\n",
       "  </tbody>\n",
       "</table>\n",
       "</div>"
      ],
      "text/plain": [
       "      SCORE  DECILE\n",
       "0  0.059304     8.0\n",
       "1  0.219040     5.0\n",
       "2  0.318282     4.0\n",
       "3  0.702969     1.0\n",
       "4  0.231825     5.0"
      ]
     },
     "execution_count": 66,
     "metadata": {},
     "output_type": "execute_result"
    }
   ],
   "source": [
    "score.head()"
   ]
  },
  {
   "cell_type": "code",
   "execution_count": 52,
   "metadata": {},
   "outputs": [
    {
     "name": "stdout",
     "output_type": "stream",
     "text": [
      "Accuracy of logistic regression classifier on training set: 0.80\n"
     ]
    }
   ],
   "source": [
    "print('Accuracy of logistic regression classifier on training set: {:.2f}'.format(logreg.score(X_train, y_train)))"
   ]
  },
  {
   "cell_type": "code",
   "execution_count": 54,
   "metadata": {},
   "outputs": [
    {
     "name": "stdout",
     "output_type": "stream",
     "text": [
      "Accuracy of logistic regression classifier on test set: 0.80\n"
     ]
    }
   ],
   "source": [
    "print('Accuracy of logistic regression classifier on test set: {:.2f}'.format(logreg.score(X_test, y_test)))"
   ]
  },
  {
   "cell_type": "markdown",
   "metadata": {},
   "source": [
    "# Cross Validation"
   ]
  },
  {
   "cell_type": "code",
   "execution_count": 56,
   "metadata": {},
   "outputs": [
    {
     "name": "stdout",
     "output_type": "stream",
     "text": [
      "10-fold cross validation average accuracy: 0.802\n"
     ]
    }
   ],
   "source": [
    "from sklearn import model_selection\n",
    "from sklearn.model_selection import cross_val_score\n",
    "kfold = model_selection.KFold(n_splits=10, random_state=7)\n",
    "modelCV = LogisticRegression()\n",
    "scoring = 'accuracy'\n",
    "results = model_selection.cross_val_score(modelCV, X_train, y_train, cv=kfold, scoring=scoring)\n",
    "print(\"10-fold cross validation average accuracy: %.3f\" % (results.mean()))"
   ]
  },
  {
   "cell_type": "code",
   "execution_count": 57,
   "metadata": {},
   "outputs": [
    {
     "name": "stdout",
     "output_type": "stream",
     "text": [
      "[[1390  128]\n",
      " [ 288  307]]\n"
     ]
    }
   ],
   "source": [
    "from sklearn.metrics import confusion_matrix\n",
    "confusion_matrix = confusion_matrix(y_test, y_pred)\n",
    "print(confusion_matrix)"
   ]
  },
  {
   "cell_type": "code",
   "execution_count": 58,
   "metadata": {},
   "outputs": [
    {
     "name": "stdout",
     "output_type": "stream",
     "text": [
      "             precision    recall  f1-score   support\n",
      "\n",
      "          0       0.83      0.92      0.87      1518\n",
      "          1       0.71      0.52      0.60       595\n",
      "\n",
      "avg / total       0.79      0.80      0.79      2113\n",
      "\n"
     ]
    }
   ],
   "source": [
    "from sklearn.metrics import classification_report\n",
    "print(classification_report(y_test, y_pred))"
   ]
  },
  {
   "cell_type": "markdown",
   "metadata": {},
   "source": [
    "Compute precision, recall, F-measure and support\n",
    "The precision is the ratio tp / (tp + fp) where tp is the number of true positives and fp the number of false positives. The precision is intuitively the ability of the classifier not to label as positive a sample that is negative.\n",
    "\n",
    "The recall is the ratio tp / (tp + fn) where tp is the number of true positives and fn the number of false negatives. The recall is intuitively the ability of the classifier to find all the positive samples.\n",
    "\n",
    "The F-beta score can be interpreted as a weighted harmonic mean of the precision and recall, where an F-beta score reaches its best value at 1 and worst score at 0.\n",
    "\n",
    "The F-beta score weights recall more than precision by a factor of beta. beta == 1.0 means recall and precision are equally important.\n",
    "\n",
    "The support is the number of occurrences of each class in y_test."
   ]
  },
  {
   "cell_type": "markdown",
   "metadata": {},
   "source": [
    "### Classification\n",
    "#### We will run all classifiers to have an initial look at the performance\n",
    "\n",
    "#### Defining function for Confusion Matrix , Precision, Recall and F1 Score"
   ]
  },
  {
   "cell_type": "code",
   "execution_count": 67,
   "metadata": {},
   "outputs": [],
   "source": [
    "#X = dataset_churn.iloc[:,1:16].values # Feature Variable\n",
    "#y = dataset_churn.iloc[:,16].values # Target Variable\n",
    "\n",
    "#Dividing data into test & train splitting 70% data for training anf 30% for test\n",
    "#X_train, X_test, y_train, y_test = train_test_split(X, y, test_size=0.30)\n",
    "#print('There are {} samples in the training set and {} samples in the test set'.format(X_train.shape[0], X_test.shape[0]))"
   ]
  },
  {
   "cell_type": "code",
   "execution_count": 50,
   "metadata": {},
   "outputs": [],
   "source": [
    "#Creating function for Confusion Matrix , Precsion, Recall and F1 Score\n",
    "def plot_confusion_matrix(classifier, y_test, y_pred_test):\n",
    "    cm = confusion_matrix(y_test, y_pred_test)\n",
    "    \n",
    "    print(\"\\n\",classifier,\"\\n\")\n",
    "    plt.clf()\n",
    "    plt.imshow(cm, interpolation='nearest', cmap='RdBu')\n",
    "    classNames = ['Churn-No','Churn-Yes']\n",
    "    plt.ylabel('True label')\n",
    "    plt.xlabel('Predicted label')\n",
    "    tick_marks = np.arange(len(classNames))\n",
    "    plt.xticks(tick_marks, classNames, rotation=45)\n",
    "    plt.yticks(tick_marks, classNames)\n",
    "    s = [['TN','FP'], ['FN', 'TP']]\n",
    "    \n",
    "    for i in range(2):\n",
    "        for j in range(2):\n",
    "            plt.text(j,i, str(s[i][j])+\" = \"+str(cm[i][j]), \n",
    "                     horizontalalignment='center', color='White')\n",
    "    \n",
    "    plt.show()\n",
    "        \n",
    "    tn, fp, fn, tp = cm.ravel()\n",
    "\n",
    "    recall = tp / (tp + fn)\n",
    "    precision = tp / (tp + fp)\n",
    "    F1 = 2*recall*precision/(recall+precision)\n",
    "\n",
    "    print('Recall={0:0.3f}'.format(recall),'\\nPrecision={0:0.3f}'.format(precision))\n",
    "    print('F1={0:0.3f}'.format(F1))\n",
    "    return;\n",
    "\n"
   ]
  },
  {
   "cell_type": "code",
   "execution_count": 51,
   "metadata": {},
   "outputs": [],
   "source": [
    "from sklearn.metrics import average_precision_score, precision_recall_curve\n",
    "def plot_prec_rec_curve(classifier, y_test, y_pred_score):\n",
    "    precision, recall, _ = precision_recall_curve(y_test, y_pred_score)\n",
    "    average_precision = average_precision_score(y_test, y_pred_score)\n",
    "\n",
    "    print('Average precision-recall score: {0:0.3f}'.format(\n",
    "          average_precision))\n",
    "\n",
    "    plt.plot(recall, precision, label='area = %0.3f' % average_precision, color=\"green\")\n",
    "    plt.xlim([0.0, 1.0])\n",
    "    plt.ylim([0.0, 1.05])\n",
    "    plt.xlabel('Recall')\n",
    "    plt.ylabel('Precision')\n",
    "    plt.title('Precision Recall Curve')\n",
    "    plt.legend(loc=\"best\")\n",
    "    plt.show()"
   ]
  },
  {
   "cell_type": "markdown",
   "metadata": {},
   "source": [
    "#### Master Classification Engine"
   ]
  },
  {
   "cell_type": "code",
   "execution_count": 52,
   "metadata": {},
   "outputs": [
    {
     "name": "stdout",
     "output_type": "stream",
     "text": [
      "\n",
      " LogisticRegression \n",
      "\n"
     ]
    },
    {
     "data": {
      "image/png": "[encoded data removed]",
      "text/plain": [
       "<Figure size 432x288 with 1 Axes>"
      ]
     },
     "metadata": {},
     "output_type": "display_data"
    },
    {
     "name": "stdout",
     "output_type": "stream",
     "text": [
      "Recall=0.539 \n",
      "Precision=0.687\n",
      "F1=0.604\n",
      "Average precision-recall score: 0.664\n"
     ]
    },
    {
     "data": {
      "image/png": "[encoded data removed]",
      "text/plain": [
       "<Figure size 432x288 with 1 Axes>"
      ]
     },
     "metadata": {},
     "output_type": "display_data"
    },
    {
     "name": "stdout",
     "output_type": "stream",
     "text": [
      "\n",
      " SVC \n",
      "\n"
     ]
    },
    {
     "data": {
      "image/png": "[encoded data removed]",
      "text/plain": [
       "<Figure size 432x288 with 1 Axes>"
      ]
     },
     "metadata": {},
     "output_type": "display_data"
    },
    {
     "name": "stdout",
     "output_type": "stream",
     "text": [
      "Recall=0.475 \n",
      "Precision=0.708\n",
      "F1=0.568\n",
      "Average precision-recall score: 0.652\n"
     ]
    },
    {
     "data": {
      "image/png": "[encoded data removed]",
      "text/plain": [
       "<Figure size 432x288 with 1 Axes>"
      ]
     },
     "metadata": {},
     "output_type": "display_data"
    },
    {
     "name": "stdout",
     "output_type": "stream",
     "text": [
      "\n",
      " DecisionTreeClassifier \n",
      "\n"
     ]
    },
    {
     "data": {
      "image/png": "[encoded data removed]",
      "text/plain": [
       "<Figure size 432x288 with 1 Axes>"
      ]
     },
     "metadata": {},
     "output_type": "display_data"
    },
    {
     "name": "stdout",
     "output_type": "stream",
     "text": [
      "Recall=0.480 \n",
      "Precision=0.491\n",
      "F1=0.485\n",
      "Average precision-recall score: 0.380\n"
     ]
    },
    {
     "data": {
      "image/png": "[encoded data removed]",
      "text/plain": [
       "<Figure size 432x288 with 1 Axes>"
      ]
     },
     "metadata": {},
     "output_type": "display_data"
    },
    {
     "name": "stdout",
     "output_type": "stream",
     "text": [
      "\n",
      " RandomForestClassifier \n",
      "\n"
     ]
    },
    {
     "data": {
      "image/png": "[encoded data removed]",
      "text/plain": [
       "<Figure size 432x288 with 1 Axes>"
      ]
     },
     "metadata": {},
     "output_type": "display_data"
    },
    {
     "name": "stdout",
     "output_type": "stream",
     "text": [
      "Recall=0.475 \n",
      "Precision=0.595\n",
      "F1=0.528\n",
      "Average precision-recall score: 0.534\n"
     ]
    },
    {
     "data": {
      "image/png": "[encoded data removed]",
      "text/plain": [
       "<Figure size 432x288 with 1 Axes>"
      ]
     },
     "metadata": {},
     "output_type": "display_data"
    }
   ],
   "source": [
    "# Making a list of all classifiers\n",
    "classifier_model = [LogisticRegression(),SVC(),DecisionTreeClassifier(),RandomForestClassifier()]\n",
    "\n",
    "# Creating empty list to store the performance details\n",
    "classifier_model_list= []\n",
    "classifier_accuracy_test = []\n",
    "classifier_accuracy_train = []\n",
    "f1score = []\n",
    "precisionscore = []\n",
    "recallscore = []\n",
    "avg_pre_rec_score = []\n",
    "cv_score = []\n",
    "\n",
    "for classifier_list in classifier_model:\n",
    "    classifier = classifier_list\n",
    " \n",
    "    # Fitting the training set into classification model\n",
    "    classifier.fit(X_train,y_train)\n",
    "    \n",
    "    # Predicting the output on test datset\n",
    "    y_pred_test = classifier.predict(X_test)    \n",
    "    score_test = accuracy_score(y_test, y_pred_test)\n",
    "    \n",
    "    # Predicting the output on training datset\n",
    "    y_pred_train = classifier.predict(X_train) \n",
    "    score_train = accuracy_score(y_train, y_pred_train)\n",
    "    \n",
    "    # Cross Validation Score on training test\n",
    "    scores = cross_val_score(classifier, X_train,y_train, cv=10)\n",
    "    cv_score.append(scores.mean())\n",
    "    \n",
    "    #Keeping the model and accuracy score into a list\n",
    "    classifier_model_list.append(classifier_list.__class__.__name__)\n",
    "    classifier_accuracy_test.append(round(score_test,4))\n",
    "    classifier_accuracy_train.append(round(score_train,4))\n",
    "    \n",
    "    #Precision, Recall and F1 score\n",
    "    f1score.append(f1_score(y_test, y_pred_test))\n",
    "    precisionscore.append(precision_score(y_test, y_pred_test))\n",
    "    recallscore.append(recall_score(y_test, y_pred_test))\n",
    "    \n",
    "    #Calculating Average Precision Recall Score\n",
    "    try:\n",
    "        y_pred_score = classifier.decision_function(X_test)\n",
    "    except:\n",
    "        y_pred_score = classifier.predict_proba(X_test)[:,1]\n",
    "    \n",
    "    from sklearn.metrics import average_precision_score\n",
    "    average_precision = average_precision_score(y_test, y_pred_score)\n",
    "    avg_pre_rec_score.append(average_precision)\n",
    "    #Confusion Matrix\n",
    "    plot_confusion_matrix(classifier_list.__class__.__name__, y_test, y_pred_test)\n",
    "    plot_prec_rec_curve(classifier_list.__class__.__name__, y_test, y_pred_score)\n"
   ]
  },
  {
   "cell_type": "code",
   "execution_count": 54,
   "metadata": {},
   "outputs": [],
   "source": [
    "del y_train"
   ]
  },
  {
   "cell_type": "code",
   "execution_count": 55,
   "metadata": {},
   "outputs": [],
   "source": [
    "del X\n",
    "del y\n",
    "del X_train\n",
    "del X_test\n",
    "del y_test"
   ]
  },
  {
   "cell_type": "code",
   "execution_count": 56,
   "metadata": {},
   "outputs": [
    {
     "name": "stdout",
     "output_type": "stream",
     "text": [
      "There are 4930 samples in the training set and 2113 samples in the test set\n"
     ]
    }
   ],
   "source": [
    "X = dataset_churn.iloc[:,1:16].values # Feature Variable\n",
    "y = dataset_churn.iloc[:,16].values # Target Variable\n",
    "\n",
    "#Dividing data into test & train splitting 70% data for training anf 30% for test\n",
    "X_train, X_test, y_train, y_test = train_test_split(X, y, test_size=0.30)\n",
    "print('There are {} samples in the training set and {} samples in the test set'.format(X_train.shape[0], X_test.shape[0]))"
   ]
  },
  {
   "cell_type": "code",
   "execution_count": 57,
   "metadata": {},
   "outputs": [],
   "source": [
    "rfc=RandomForestClassifier(random_state=42)"
   ]
  },
  {
   "cell_type": "code",
   "execution_count": 58,
   "metadata": {},
   "outputs": [],
   "source": [
    "param_grid = { \n",
    "    'n_estimators': [100,200, 500],\n",
    "    'max_features': ['auto', 'sqrt', 'log2'],\n",
    "    'max_depth' : [4,5,6,7,8],\n",
    "    'criterion' :['gini', 'entropy']\n",
    "}"
   ]
  },
  {
   "cell_type": "code",
   "execution_count": 59,
   "metadata": {},
   "outputs": [
    {
     "data": {
      "text/plain": [
       "GridSearchCV(cv=5, error_score='raise',\n",
       "       estimator=RandomForestClassifier(bootstrap=True, class_weight=None, criterion='gini',\n",
       "            max_depth=None, max_features='auto', max_leaf_nodes=None,\n",
       "            min_impurity_decrease=0.0, min_impurity_split=None,\n",
       "            min_samples_leaf=1, min_samples_split=2,\n",
       "            min_weight_fraction_leaf=0.0, n_estimators=10, n_jobs=1,\n",
       "            oob_score=False, random_state=42, verbose=0, warm_start=False),\n",
       "       fit_params=None, iid=True, n_jobs=-1,\n",
       "       param_grid={'n_estimators': [100, 200, 500], 'max_features': ['auto', 'sqrt', 'log2'], 'max_depth': [4, 5, 6, 7, 8], 'criterion': ['gini', 'entropy']},\n",
       "       pre_dispatch='2*n_jobs', refit=True, return_train_score='warn',\n",
       "       scoring=None, verbose=0)"
      ]
     },
     "execution_count": 59,
     "metadata": {},
     "output_type": "execute_result"
    }
   ],
   "source": [
    "from sklearn.model_selection import GridSearchCV\n",
    "CV_rfc = GridSearchCV(estimator=rfc, param_grid=param_grid,n_jobs=-1, cv= 5)\n",
    "CV_rfc.fit(X_train, y_train)"
   ]
  },
  {
   "cell_type": "code",
   "execution_count": 61,
   "metadata": {},
   "outputs": [
    {
     "data": {
      "text/plain": [
       "{'criterion': 'entropy',\n",
       " 'max_depth': 8,\n",
       " 'max_features': 'auto',\n",
       " 'n_estimators': 500}"
      ]
     },
     "execution_count": 61,
     "metadata": {},
     "output_type": "execute_result"
    }
   ],
   "source": [
    "CV_rfc.best_params_"
   ]
  },
  {
   "cell_type": "code",
   "execution_count": 65,
   "metadata": {},
   "outputs": [],
   "source": [
    "rfc1=RandomForestClassifier(random_state=42, max_features='auto', n_estimators= 500, max_depth=8, criterion='entropy')"
   ]
  },
  {
   "cell_type": "code",
   "execution_count": 66,
   "metadata": {},
   "outputs": [
    {
     "data": {
      "text/plain": [
       "RandomForestClassifier(bootstrap=True, class_weight=None, criterion='entropy',\n",
       "            max_depth=8, max_features='auto', max_leaf_nodes=None,\n",
       "            min_impurity_decrease=0.0, min_impurity_split=None,\n",
       "            min_samples_leaf=1, min_samples_split=2,\n",
       "            min_weight_fraction_leaf=0.0, n_estimators=500, n_jobs=1,\n",
       "            oob_score=False, random_state=42, verbose=0, warm_start=False)"
      ]
     },
     "execution_count": 66,
     "metadata": {},
     "output_type": "execute_result"
    }
   ],
   "source": [
    "rfc1.fit(X_train, y_train)"
   ]
  },
  {
   "cell_type": "code",
   "execution_count": 68,
   "metadata": {},
   "outputs": [],
   "source": [
    "predictions1 = rfc1.predict(X_test)"
   ]
  },
  {
   "cell_type": "code",
   "execution_count": 69,
   "metadata": {},
   "outputs": [
    {
     "name": "stdout",
     "output_type": "stream",
     "text": [
      " Confusion matrix  [[1405  119]\n",
      " [ 321  268]]\n"
     ]
    }
   ],
   "source": [
    "print (\" Confusion matrix \", confusion_matrix(y_test, predictions1))"
   ]
  },
  {
   "cell_type": "code",
   "execution_count": 70,
   "metadata": {},
   "outputs": [
    {
     "name": "stdout",
     "output_type": "stream",
     "text": [
      "Test Accuracy  ::  0.7917652626597255\n"
     ]
    }
   ],
   "source": [
    "print ( \"Test Accuracy  :: \", accuracy_score(y_test, predictions1))"
   ]
  },
  {
   "cell_type": "code",
   "execution_count": 71,
   "metadata": {},
   "outputs": [
    {
     "name": "stdout",
     "output_type": "stream",
     "text": [
      "             precision    recall  f1-score   support\n",
      "\n",
      "          0       0.81      0.92      0.86      1524\n",
      "          1       0.69      0.46      0.55       589\n",
      "\n",
      "avg / total       0.78      0.79      0.78      2113\n",
      "\n"
     ]
    }
   ],
   "source": [
    "print(classification_report(y_test, predictions1))"
   ]
  },
  {
   "cell_type": "code",
   "execution_count": null,
   "metadata": {},
   "outputs": [],
   "source": [
    "# for integration we can save trained model with using package joblib (joblib.dump & joblib.load)"
   ]
  },
  {
   "cell_type": "code",
   "execution_count": 76,
   "metadata": {},
   "outputs": [],
   "source": [
    "# Calculate feature importances\n",
    "importances = rfc1.feature_importances_\n",
    "# Sort feature importances in descending order\n",
    "indices = np.argsort(importances)[::-1]\n",
    "\n",
    "# Rearrange feature names so they match the sorted feature importances\n",
    "names = [dataset_churn.columns[i] for i in indices]"
   ]
  },
  {
   "cell_type": "code",
   "execution_count": 81,
   "metadata": {},
   "outputs": [
    {
     "data": {
      "image/png": "[encoded data removed]",
      "text/plain": [
       "<Figure size 432x288 with 1 Axes>"
      ]
     },
     "metadata": {},
     "output_type": "display_data"
    }
   ],
   "source": [
    "# Barplot: Add bars\n",
    "plt.bar(range(X.shape[1]), importances[indices])\n",
    "# Add feature names as x-axis labels\n",
    "plt.xticks(range(X.shape[1]), names, rotation=20, fontsize = 10)\n",
    "# Create plot title\n",
    "plt.title(\"Feature Importance\")\n",
    "# Show plot\n",
    "plt.show()"
   ]
  },
  {
   "cell_type": "markdown",
   "metadata": {},
   "source": [
    "### Model can be further improved using the strategies discussed in next paragragh.\n",
    "\n",
    "Handling Imbalaced Dataset :\n",
    "\n",
    "1.Increasing the number of instances of the minority class (This case Churn = 'Yes') . We need more data with Churn Class as \"Yes\".\n",
    "\n",
    "2.Decreasing the number of instances of majority class\n",
    "\n",
    "3.Random Under-Sampling\n",
    "\n",
    "4.Random Over-Sampling\n",
    "\n",
    "5.Cluster-Based Over Sampling\n",
    "\n",
    "6.Synthetic Minority Over-sampling Technique(SMOTE)\n",
    "\n",
    "https://www.analyticsvidhya.com/blog/2017/03/imbalanced-classification-problem/\n"
   ]
  },
  {
   "cell_type": "code",
   "execution_count": null,
   "metadata": {},
   "outputs": [],
   "source": [
    "from sklearn.preprocessing import RobustScaler\n",
    "# Define the scaler \n",
    "scaler = preprocessing.RobustScaler()\n",
    "\n",
    "# Scale the train set\n",
    "x_train = scaler.fit_transform(x_train)\n",
    "\n",
    "# Scale the test set\n",
    "x_test = scaler.fit_transform(x_test)"
   ]
  }
 ],
 "metadata": {
  "kernelspec": {
   "display_name": "Python 3",
   "language": "python",
   "name": "python3"
  },
  "language_info": {
   "codemirror_mode": {
    "name": "ipython",
    "version": 3
   },
   "file_extension": ".py",
   "mimetype": "text/x-python",
   "name": "python",
   "nbconvert_exporter": "python",
   "pygments_lexer": "ipython3",
   "version": "3.6.5"
  }
 },
 "nbformat": 4,
 "nbformat_minor": 2
}
